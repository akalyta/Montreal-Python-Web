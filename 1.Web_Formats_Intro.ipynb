{
 "metadata": {
  "name": ""
 },
 "nbformat": 3,
 "nbformat_minor": 0,
 "worksheets": [
  {
   "cells": [
    {
     "cell_type": "heading",
     "level": 1,
     "metadata": {
      "slideshow": {
       "slide_type": "slide"
      }
     },
     "source": [
      "Introduction to Web Data Formats"
     ]
    },
    {
     "cell_type": "markdown",
     "metadata": {},
     "source": [
      "**Workshop on Web Scraping and Text Processing with Python**"
     ]
    },
    {
     "cell_type": "markdown",
     "metadata": {},
     "source": [
      "**by Radhika Saksena, Princeton University, saksena@princeton.edu, radhika.saksena@gmail.com**"
     ]
    },
    {
     "cell_type": "markdown",
     "metadata": {},
     "source": [
      "*Disclaimer: The code examples presented in this workshop are for educational purposes only. Please seek advice from a legal expert about the legal implications of using this code for web scraping.*"
     ]
    },
    {
     "cell_type": "heading",
     "level": 2,
     "metadata": {
      "slideshow": {
       "slide_type": "slide"
      }
     },
     "source": [
      "1. Introduction"
     ]
    },
    {
     "cell_type": "markdown",
     "metadata": {},
     "source": [
      "In this document, we will look at some common data formats encountered on the Internet. We will be extensively working with some of these document formats in the workshop. Data is available on the web in di\ufb00erent formats - HTML, XML, JSON, YAML and more. XML, JSON and YAML are popular data\n",
      "exchange formats for *structured/semi-structured* text data. For example, in the workshop, we will be interacting with Twitter content, which is available as JSON strings. The term <tt>structured</tt>, as applied to datasets in the present context, implies that the organization of data elements is well-defined and predictable. This makes extracting and working with <tt>structured</tt> content far more easier than with <tt>unstructured</tt> content. Let's look at these data formats and some examples in more detail."
     ]
    },
    {
     "cell_type": "heading",
     "level": 2,
     "metadata": {
      "slideshow": {
       "slide_type": "slide"
      }
     },
     "source": [
      "2. XML Document format"
     ]
    },
    {
     "cell_type": "markdown",
     "metadata": {},
     "source": [
      "Here, we will examine the anatomy of an XML document that represents the US House of Representatives roll call for the Hurricane Sandy relief bill.\n",
      "\n",
      "An XML document consists of markup which are special characters and syntactic structures that *mark-up* the content (text, images, etc.) of the XML document. The content is what we are interested in reading and the mark-up constructs describe the structure of the document so that it becomes machine-readable. Listed below are the basic elements of XML that you will need to consider when using Python to read an XML document:\n",
      "\n",
      "* The XML **declaration** is a line, such as the one shown below, which is found at the start of the XML document. The declaration may or may not be included in the XML document. If present, it may contain an attribute that speci\ufb01es the character encoding of the document content and is something that could be useful for scraping purposes.\n",
      "\n"
     ]
    },
    {
     "cell_type": "markdown",
     "metadata": {},
     "source": [
      "<img src=\"files/XMLHeader.png\" width=350 height=350>"
     ]
    },
    {
     "cell_type": "markdown",
     "metadata": {
      "slideshow": {
       "slide_type": "slide"
      }
     },
     "source": [
      "* **Tags** are constructs that logically mark-up elements of the XML document. The name of the tag is enclosed in angle brackets. HTML and XML tags come in pairs - `<tag>` and `</tag>` - with the former annotating the start of the element and the latter annotating the end. If the tag is marking up an empty element, then the opening and closing set is fused into a single annotation - `<tag/>`. The snippet below is from an XML document describing the US House vote on the Hurricane Sandy Relief bill (http://en.wikipedia.org/wiki/Hurricane_Sandy_relief_bill). The full XML document is available at https://www.govtrack.us/data/congress/113/votes/2013/h7/data.xml. As shown here, the XML document contains various tags that correspond to particular details of the vote such as the roll-call information in the `<roll>` tag, the question being voted on in the `<question>` tag and so on.\n"
     ]
    },
    {
     "cell_type": "code",
     "collapsed": false,
     "input": [
      "<roll where=\"house\" session=\"113\" year=\"2013\" roll=\"7\" source=\"house.gov\"\n",
      "    datetime=\"2013-01-04T11:22:00-05:00\" updated=\"2013-07-18T22:42:27-04:00\"\n",
      "    aye=\"354\" nay=\"67\" nv=\"8\" present=\"0\">\n",
      "    <category>passage-suspension</category>\n",
      "    <type>On Motion to Suspend the Rules and Pass</type>\n",
      "    <question>On Motion to Suspend the Rules and Pass: H R 41 To temporarily increase the\n",
      "        borrowing authority of the Federal Emergency Management Agency for carrying out\n",
      "        the National Flood Insurance Program</question>\n",
      "    <required>2/3</required>\n",
      "    <result>Passed</result>\n",
      "    <bill session=\"113\" type=\"h\" number=\"41\"/>\n",
      "    <option key=\"+\">Yea</option>\n",
      "    <option key=\"-\">Nay</option>\n",
      "    <option key=\"P\">Present</option>\n",
      "    <option key=\"0\">Not Voting</option>\n",
      "    <voter id=\"400004\" vote=\"+\" value=\"Yea\" state=\"AL\"/>\n",
      "    <voter id=\"400006\" vote=\"+\" value=\"Yea\" state=\"LA\"/>\n",
      "    <voter id=\"412500\" vote=\"+\" value=\"Yea\" state=\"NV\"/>\n",
      "    ...\n",
      "</roll>"
     ],
     "language": "python",
     "metadata": {},
     "outputs": []
    },
    {
     "cell_type": "markdown",
     "metadata": {},
     "source": [
      "* Furthermore, tags can be nested within each other. This is demonstrated in the roll-call example above, where, the `<category>`, `<type>`, `<question>`, `<result>`, etc. tags are nested within the parent `<roll>` tag. The nested or child tags annotate more specialized information about the document element. In this example the `<roll>` tag annotates the complete roll-call element, while the child tags such as `<question>` and `<result>` point to speci\ufb01c information about the roll-call.\n",
      "\n",
      "\n",
      "* At the lowest level of tag nesting in the XML document, if the leaf tag is not empty, then it will normally annotate a text element with substantive **content**. For example, the `<question>` tag in the example above annotates a text element describing the question being voted on. In addition to attribute values (see next item), most of our scraping efforts are geared towards extracting this content and tags act as guides/references for the web-scraping code.\n",
      "\n",
      "\n",
      "* **Attributes** are name-value pairs which qualify tags. (Note that the value in the name-value pair is enclosed in quotes.) The `<voter>` tag in the roll-call example above is quali\ufb01ed by three attributes describing (a) the voter id, (b) the type of vote/value and (c) the voter\u2019s state. Note that although the `<voter>` tag has attributes, it is also an empty element, i.e., it does not encapsulate text or child elements. In fact, since this is an empty element, the starting and ending `<voter>` tags are fused into one tag with a forward slash to denote that the tag is marking up an empty element - `<voter id=... />`.\n",
      "\n",
      "\n",
      "* Attributes are useful in guiding us towards content of interest in two ways. First, we might be interested in content contained in tags with speci\ufb01c attribute values. Second, in cases such as the roll-call example, the attribute value itself may be of substantive interest. For example, if we wanted to list the legislators who voted for the Hurricane Sandy Relief bill, we need only to extract the <tt>id</tt> attribute of all the `<voter>` tags from the roll-call XML example.\n",
      "\n",
      "\n",
      "* Given an XML document and the concept of tags, attributes and content, we can discern **elements** of the XML document which are the logical units of the document. An element comprises the starting and ending tags, attributes, any nested tags and textual content. For example in the roll-call example, the `<roll>` tag along with all its sub-structure and content is considered to be an element and similarly the `<question>` tag is a child element of `<roll>`.  Among the child elements of `<roll>`, one might be interested in the string contained in the `<question>` tag. Often such text strings are what we are trying to get at in our web scraping endeavors. The tags and attributes, that encapsulate the content  of interest, serve as machine-readable guides that programmatically lead us to it. Using scripting languages, such as Pythons, we can automate such content extraction across thousands and even more XML documents.\n"
     ]
    },
    {
     "cell_type": "heading",
     "level": 2,
     "metadata": {
      "slideshow": {
       "slide_type": "slide"
      }
     },
     "source": [
      "3. HTML vs XML"
     ]
    },
    {
     "cell_type": "markdown",
     "metadata": {},
     "source": [
      "Majority of text content on the web is available as HTML web pages. Concepts such as elements, tags, attributes that we saw for XML documents, in the previous section, also apply to HTML documents. However, HTML di\ufb00ers from XML in that it is primarily meant for publishing content to the web rather than as a data exchange format. As a result there is often a lack of strict structure (schema) in HTML web pages. This can make traversing the HTML tag hierarchy from a Python script quite tricky. We will learn some techniques in the workshop which should make this task easier. Secondly, the unstructured nature of HTML documents a\ufb00ects the re-usability of any Python script. For example, even if a script works for one HTML document on a website, it may not fully work with another HTML document that exists at the same level of hierarchy on the website, for example, providing the same data for another year, .\n"
     ]
    },
    {
     "cell_type": "heading",
     "level": 2,
     "metadata": {
      "slideshow": {
       "slide_type": "slide"
      }
     },
     "source": [
      "4. JSON Data Exchange Format"
     ]
    },
    {
     "cell_type": "markdown",
     "metadata": {},
     "source": [
      "JSON (JavaScript-Object Notation) is a popular data exchange format and is increasingly becoming the format of choice over the XML format (e.g. Twitter uses JSON). JSON can be used for representing structured or semi-structured data. JSON data comprises of objects whose properties are listed as name-value pairs. Objects are enclosed in curly brackets and there can be nested objects in the JSON document just as elements can be nested within elements in XML documents. So here is a JSON snippet corresponding to the earlier Hurricane Sandy relief bill roll-call XML example - now in JSON format."
     ]
    },
    {
     "cell_type": "code",
     "collapsed": false,
     "input": [
      "{\n",
      "  \"bill\": {\n",
      "    \"congress\": 113, \n",
      "    \"number\": 41, \n",
      "    \"type\": \"hr\"\n",
      "  }, \n",
      "  \"category\": \"passage-suspension\", \n",
      "  \"chamber\": \"h\", \n",
      "  \"congress\": 113, \n",
      "  \"date\": \"2013-01-04T11:22:00-05:00\", \n",
      "  \"number\": 7, \n",
      "  \"question\": \"On Motion to Suspend the Rules and Pass: H R 41 To temporarily increase the borrowing authority of the Federal Emergency  Management Agency for carrying out the National Flood Insurance Program\", \n",
      "  \"requires\": \"2/3\", \n",
      "  \"result\": \"Passed\", \n",
      "  \"result_text\": \"Passed\", \n",
      "  \"session\": \"2013\", \n",
      "  \"source_url\": \"http://clerk.house.gov/evs/2013/roll007.xml\", \n",
      "  \"subject\": \"To temporarily increase the borrowing authority of the Federal Emergency Management Agency for carrying out the National Flood Insurance Program\", \n",
      "  \"type\": \"On Motion to Suspend the Rules and Pass\", \n",
      "  \"updated_at\": \"2014-02-17T08:57:08-05:00\", \n",
      "  \"vote_id\": \"h7-113.2013\", \n",
      "  \"votes\": {\n",
      "    \"Nay\": [\n",
      "      {\n",
      "        \"display_name\": \"Amash\", \n",
      "        \"id\": \"A000367\", \n",
      "        \"party\": \"R\", \n",
      "        \"state\": \"MI\"\n",
      "      }, \n",
      "      {\n",
      "        \"display_name\": \"Barr\", \n",
      "        \"id\": \"B001282\", \n",
      "        \"party\": \"R\", \n",
      "        \"state\": \"KY\"\n",
      "      }, \n",
      "    ...\n",
      "    }\n",
      "    \"Present\": [], \n",
      "    \"Yea\": [\n",
      "        {\n",
      "        \"display_name\": \"Aderholt\", \n",
      "        \"id\": \"A000055\", \n",
      "        \"party\": \"R\", \n",
      "        \"state\": \"AL\"\n",
      "      }, \n",
      "      {\n",
      "        \"display_name\": \"Alexander\", \n",
      "        \"id\": \"A000361\", \n",
      "        \"party\": \"R\", \n",
      "        \"state\": \"LA\"\n",
      "      }, \n",
      "    ...\n",
      "    ]\n",
      "  }\n",
      "}"
     ],
     "language": "python",
     "metadata": {},
     "outputs": []
    },
    {
     "cell_type": "markdown",
     "metadata": {},
     "source": [
      "* Here we have the roll-call object enclosed in the outermost curly brackets with many nested objects such as the <tt>bill</tt> object with values for its <tt>congress</tt>, <tt>number</tt> and <tt>type</tt> properties. As we saw in the XML example, the roll-call object has the <tt>question</tt> property which speci\ufb01es the motion being voted on and the <tt>result</tt> property which contains the result of the roll call.\n",
      "\n",
      "\n",
      "* In the JSON snippet above, we also note that the <tt>votes</tt> object has two child objects corresponding to the <tt>Nay</tt> votes and <tt>Yea</tt> votes. For each of the two types of votes, we have a *list* of voter objects enclosed in *square* brackets. Each voter object has values speci\ufb01ed for its <tt>display_name</tt>, <tt>id</tt>, <tt>party</tt> and <tt>state</tt> properties and these are encapsulated as *colon-separated name-value* pairs within *curly* braces. Various tools have emerged to parse, emit and validate JSON and we will look at such a Python module in the workshop.\n"
     ]
    },
    {
     "cell_type": "heading",
     "level": 2,
     "metadata": {
      "slideshow": {
       "slide_type": "slide"
      }
     },
     "source": [
      "5. YAML data exchange format"
     ]
    },
    {
     "cell_type": "markdown",
     "metadata": {},
     "source": [
      "* YAML (\u201cYAML Ain\u2019t Markup Language\u201d) is another data-oriented format. The nested syntax resembles JSON but YAML doesn\u2019t use enclosures such as brackets, quotes and tags. YAML has associative arrays to represent name-value pairs which specify properties and lists when multiple elements are involved. The nesting hierarchies are maintained by indentation in the same way that indentations are used in Python. The snippet of the YAML document giving details of the social media presence of some U.S. legislators that voted <tt>Nay</tt> in the previous roll-call example is listed below. The complete YAML document can be obtained from https://github.com/unitedstates/congress-legislators/blob/master/legislators-social-media.yaml"
     ]
    },
    {
     "cell_type": "code",
     "collapsed": false,
     "input": [
      "- id:\n",
      "    bioguide: A000367\n",
      "    thomas: \u201902029\u2019\n",
      "    govtrack: 412438\n",
      "  social:\n",
      "    twitter: repjustinamash\n",
      "    facebook: repjustinamash\n",
      "    youtube: repjustinamash\n",
      "    facebook_id: \u2019173604349345646\u2019\n",
      "    youtube_id: UCeg6HhoCXrS8xpON9dxtZgA\n",
      "- id:\n",
      "    bioguide: B001282\n",
      "    thomas: \u201902131\u2019\n",
      "    govtrack: 412541\n",
      "  social:\n",
      "    twitter: RepAndyBarr\n",
      "    facebook: RepAndyBarr\n",
      "    youtube: RepAndyBarr\n",
      "    facebook_id: \u2019457461137635018\u2019\n",
      "    youtube_id: UCVL2s6x7f7H0ZJ-uwU0pQ6Q"
     ],
     "language": "python",
     "metadata": {},
     "outputs": []
    },
    {
     "cell_type": "markdown",
     "metadata": {},
     "source": [
      "* The YAML snippet above contains a list of two elements each starting with a hyphen. Each element contains nested elements <tt>id</tt> and <tt>social</tt>. These two sub-elements themselves are associative arrays (Python <tt>dict</tt>). The associative array corresponding to the <tt>id</tt> sub-element contains name-value pairs describing the legislator such as the bioguide ID, THOMAS ID, etc. while the <tt>social</tt> sub-element contains name-value pairs describing the legislator's social media presence. "
     ]
    },
    {
     "cell_type": "code",
     "collapsed": false,
     "input": [],
     "language": "python",
     "metadata": {},
     "outputs": []
    }
   ],
   "metadata": {}
  }
 ]
}