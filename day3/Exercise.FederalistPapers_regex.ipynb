{
 "metadata": {
  "name": ""
 },
 "nbformat": 3,
 "nbformat_minor": 0,
 "worksheets": [
  {
   "cells": [
    {
     "cell_type": "heading",
     "level": 1,
     "metadata": {
      "slideshow": {
       "slide_type": "slide"
      }
     },
     "source": [
      "Exercise: Federalist Papers with Regular Expressions"
     ]
    },
    {
     "cell_type": "markdown",
     "metadata": {
      "slideshow": {
       "slide_type": "-"
      }
     },
     "source": [
      "**Workshop on Web Scraping and Text Processing with Python**"
     ]
    },
    {
     "cell_type": "markdown",
     "metadata": {},
     "source": [
      "**by Radhika Saksena, Princeton University, saksena@princeton.edu, radhika.saksena@gmail.com**\n",
      "\n"
     ]
    },
    {
     "cell_type": "markdown",
     "metadata": {},
     "source": [
      "*Disclaimer: The code examples presented in this and subsequent handouts are for educational purposes only. Please seek advice from a legal expert about the legal implications of using this code for web scraping.\n",
      "*"
     ]
    },
    {
     "cell_type": "heading",
     "level": 2,
     "metadata": {
      "slideshow": {
       "slide_type": "slide"
      }
     },
     "source": [
      "1. Background"
     ]
    },
    {
     "cell_type": "markdown",
     "metadata": {},
     "source": [
      "At http://thomas.loc.gov/home/histdox/fedpapers.html, you will find a list of links to HTML pages containing text of the Federalist papers. The links are listed in an HTML table with the columns containing the index, title, author and publication date of each Federalist paper. A snippet of the HTML document is shown below for quick reference."
     ]
    },
    {
     "cell_type": "code",
     "collapsed": false,
     "input": [
      " <table class=\"laws\">\n",
      "    <tbody><tr> \n",
      "      <th scope=\"col\" width=\"5%\"><p><strong>No.</strong></p></th>\n",
      "      <th scope=\"col\" width=\"40%\"><p><strong>Title</strong></p></th>\n",
      "      <th scope=\"col\"><p><strong>Author</strong></p></th>\n",
      "      <th scope=\"col\" width=\"30%\"><p><strong>Publication</strong></p></th>\n",
      "      <th scope=\"col\" width=\"25%\"><p><strong>Date</strong></p></th>\n",
      "\n",
      "    </tr>\n",
      "    <tr> \n",
      "      <td width=\"5%\"><p> \n",
      "        <strong>1</strong></p></td>\n",
      "      <td width=\"40%\"><p><a href=\"fed_01.html\">General Introduction</a></p></td>\n",
      "      <td><p>Hamilton</p></td>\n",
      "      <td width=\"30%\"><p>For the Independent Journal</p></td>\n",
      "\n",
      "       <td width=\"25%\"><p>- -</p></td>\n",
      "    </tr>\n",
      "    <tr> \n",
      "      <td width=\"5%\"><p> \n",
      "        <strong>2</strong></p></td>\n",
      "      <td width=\"40%\"><p><a href=\"fed_02.html\">Concerning Dangers from Foreign Force and Influence</a></p></td>\n",
      "      <td><p>Jay</p></td>\n",
      "\n",
      "      <td width=\"30%\"><p>For the Independent Journal</p></td>\n",
      "       <td width=\"25%\"><p>- -</p></td>\n",
      "    </tr>\n",
      "    ...\n",
      "     <tr> \n",
      "      <td width=\"5%\"><p><strong>85</strong></p></td>\n",
      "      <td width=\"40%\"><p><a href=\"fed_85.html\">Concluding Remarks</a></p></td>\n",
      "      <td><p>Hamilton</p></td>\n",
      "      <td width=\"30%\"><p>From McLEAN's Edition, New York</p></td>\n",
      "       <td width=\"25%\"><p>- -</p></td>\n",
      "    </tr>\n",
      "  </tbody></table>\n"
     ],
     "language": "python",
     "metadata": {},
     "outputs": []
    },
    {
     "cell_type": "heading",
     "level": 2,
     "metadata": {
      "slideshow": {
       "slide_type": "slide"
      }
     },
     "source": [
      "2. Task: Extract links to Federalist Papers with ``re``"
     ]
    },
    {
     "cell_type": "markdown",
     "metadata": {},
     "source": [
      "** Use Python regular expressions module ``re`` to extract the links to the Federalist papers that are listed at http://thomas.loc.gov/home/histdox/fedpapers.html. **"
     ]
    },
    {
     "cell_type": "code",
     "collapsed": false,
     "input": [
      "import re,os,sys                                                                   \n",
      "import urllib2                                                                     \n",
      "                                                                                   \n",
      "url = \"http://thomas.loc.gov/home/histdox/fedpapers.html\"                      \n",
      "htmlStr = urllib2.urlopen(url).read()                                          \n",
      "\n",
      "# extract all the HTML links in the fedpapers.html document\n",
      "relativeLinks = re.findall(r\"href=\\\"(\\w+.*\\.html)\\\"\",htmlStr)                  \n",
      "#???relativeLinks = re.findall(r\"href=\\\"(^fed.*\\.html)\\\"\",htmlStr)             \n",
      " \n",
      "# obtain the base URL\n",
      "prefix = re.match(r\"(http.*)\\/.*\\.html\",url)                                   \n",
      "baseURL = prefix.group(1) \n",
      "\n",
      "# construct the full URL\n",
      "for relURL in relativeLinks:\n",
      "    fedpaperURL = \"{0}/{1}\".format(baseURL,relURL) \n",
      "    print(\"Federalist paper URL: {0}.\".format(fedpaperURL))                                                              "
     ],
     "language": "python",
     "metadata": {},
     "outputs": []
    },
    {
     "cell_type": "heading",
     "level": 2,
     "metadata": {},
     "source": [
      "3. Task : Extract links to Federalist Papers with ``re`` and BeautifulSoup"
     ]
    },
    {
     "cell_type": "markdown",
     "metadata": {},
     "source": [
      "** Use Python regular expressions module ``re`` with BeautifulSoup to extract the links to the Federalist papers that are listed at http://thomas.loc.gov/home/histdox/fedpapers.html. **\n",
      "\n",
      "* Note that, when we use BeautifulSoup in conjunction with ``re`` to find elements of interest, we can perform more direct and precise searches without worrying about the HTML tag hierarchy."
     ]
    },
    {
     "cell_type": "code",
     "collapsed": false,
     "input": [
      "import re,os,sys                                                                   \n",
      "import urllib2                                                                     \n",
      "from bs4 import BeautifulSoup                                                      \n",
      "                                                                                   \n",
      "baseURL = \"http://thomas.loc.gov/home/histdox\"                              \n",
      "URL = \"{0}/fedpapers.html\".format(baseURL)    \n",
      "\n",
      "soup = BeautifulSoup(urllib2.urlopen(url).read())  \n",
      "\n",
      "linkObjs = soup.find_all(\"a\",{\"href\":re.compile(\"fed_[0-9]+.*html\")})\n",
      "\n",
      "for linkObj in linkObjs:        \n",
      "    relURL = linkObj.get(\"href\")                                            \n",
      "    fedpaperURL = \"{0}/{1}\".format(baseURL,relURL)\n",
      "    print(\"Federalist paper URL: {0}.\".format(fedpaperURL)) "
     ],
     "language": "python",
     "metadata": {},
     "outputs": []
    },
    {
     "cell_type": "code",
     "collapsed": false,
     "input": [],
     "language": "python",
     "metadata": {},
     "outputs": []
    }
   ],
   "metadata": {}
  }
 ]
}
