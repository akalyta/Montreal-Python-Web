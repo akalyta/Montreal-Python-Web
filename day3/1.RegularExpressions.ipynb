{
 "metadata": {
  "name": ""
 },
 "nbformat": 3,
 "nbformat_minor": 0,
 "worksheets": [
  {
   "cells": [
    {
     "cell_type": "heading",
     "level": 1,
     "metadata": {
      "slideshow": {
       "slide_type": "slide"
      }
     },
     "source": [
      "Python Regular Expressions"
     ]
    },
    {
     "cell_type": "markdown",
     "metadata": {},
     "source": [
      "**by Radhika Saksena <br/>\n",
      "Princeton University <br/>\n",
      "saksena@princeton.edu, radhika.saksena@gmail.com**"
     ]
    },
    {
     "cell_type": "markdown",
     "metadata": {},
     "source": [
      "**Disclaimer: The code examples presented in this and subsequent handouts are for educational purposes only. Please seek advice from a legal expert about the legal implications of using this code for web scraping.\n",
      "**"
     ]
    },
    {
     "cell_type": "heading",
     "level": 2,
     "metadata": {},
     "source": [
      "1. A Motivating Example"
     ]
    },
    {
     "cell_type": "heading",
     "level": 3,
     "metadata": {
      "slideshow": {
       "slide_type": "slide"
      }
     },
     "source": [
      "1.1. Ex: U.S. Senators' XML Document"
     ]
    },
    {
     "cell_type": "markdown",
     "metadata": {
      "slideshow": {
       "slide_type": "-"
      }
     },
     "source": [
      "\n",
      "* To demonstrate regular expression concepts, we'll, once again, use the U.S. Senate XML document example, http://www.senate.gov/general/contact_information/senators_cfm.xml. We have already used`` BeautifulSoup's find() `` and `` find_all() `` methods to extract Senator Information from this document. \n",
      "* Instead of BeautifulSoup, today, we will use the `` re `` module functionality to extract substantive information from the XML document.\n",
      "* Let's inspect the XML document at http://www.senate.gov/general/contact_information/senators_cfm.xml. A snippet of the XML document is also listed below for quick reference."
     ]
    },
    {
     "cell_type": "code",
     "collapsed": false,
     "input": [
      "<contact_information>\n",
      "    <member>\n",
      "        <member_full>Alexander (R-TN)</member_full>\n",
      "        <last_name>Alexander</last_name>\n",
      "        <first_name>Lamar</first_name>\n",
      "        <party>R</party>\n",
      "        <state>TN</state>\n",
      "        <address>\n",
      "            455 Dirksen Senate Office Building Washington DC 20510\n",
      "        </address>\n",
      "        <phone>(202) 224-4944</phone>\n",
      "        <email>\n",
      "            http://www.alexander.senate.gov/public/index.cfm?p=Email\n",
      "        </email>\n",
      "        <website>http://www.alexander.senate.gov/</website>\n",
      "        <class>Class II</class>\n",
      "        <bioguide_id>A000360</bioguide_id>\n",
      "    </member>\n",
      "    <member>\n",
      "        <member_full>Ayotte (R-NH)</member_full>\n",
      "        <last_name>Ayotte</last_name>\n",
      "        <first_name>Kelly</first_name>\n",
      "        <party>R</party>\n",
      "        <state>NH</state>\n",
      "        <address>\n",
      "            144 Russell Senate Office Building Washington DC 20510\n",
      "        </address>\n",
      "        <phone>(202) 224-3324</phone>\n",
      "        <email>http://www.ayotte.senate.gov/?p=contact</email>\n",
      "        <website>http://www.ayotte.senate.gov</website>\n",
      "        <class>Class III</class>\n",
      "        <bioguide_id>A000368</bioguide_id>\n",
      "        </member>\n",
      "    ...\n",
      "</contact_information>"
     ],
     "language": "python",
     "metadata": {},
     "outputs": []
    },
    {
     "cell_type": "heading",
     "level": 2,
     "metadata": {
      "slideshow": {
       "slide_type": "slide"
      }
     },
     "source": [
      "2. Python's `` re `` Module"
     ]
    },
    {
     "cell_type": "markdown",
     "metadata": {},
     "source": [
      "* Regular expressions are a powerful Python language feature that can automate many pre-processing tasks required to prepare data for subsequent statistical analysis. \n",
      " * Regular expressions are very useful for general Python tasks, i.e., not limited to scraping\n",
      " * Regular expressions can be used **instead** of BeautifulSoup. We'll see an example where this becomes necessary.\n",
      " * Regular expressions can be used **with** BeautifulSoup for even more powerful web scraping.\n",
      "* In today's session, we will look at some of the most commonly used features of Python\u2019s regular expressions module which is called ``re``. \n",
      "* After the introduction to regular expression functionality in Python, we will look at examples of using regular expressions in conjunction with BeautifulSoup to make web scraping more e\ufb03cient."
     ]
    },
    {
     "cell_type": "heading",
     "level": 3,
     "metadata": {
      "slideshow": {
       "slide_type": "slide"
      }
     },
     "source": [
      "2.1. Regex Basics - ``re.search()``"
     ]
    },
    {
     "cell_type": "markdown",
     "metadata": {},
     "source": [
      "The code in Listing 2 uses the ``re.search()`` method to determine whether this XML document contains the string ``A000360`` which is the bioguide_id for U.S. Senator Alexander Lamar."
     ]
    },
    {
     "cell_type": "code",
     "collapsed": false,
     "input": [
      "import urllib2\n",
      "import re\n",
      "\n",
      "\"\"\"Search for given string in XML document.\"\"\"\n",
      "\n",
      "respXML = urllib2.urlopen(\"http://www.senate.gov/general/contact_information/senators_cfm.xml\").read()\n",
      "\n",
      "if(re.search(r\"A000360\",respXML)):\n",
      "    print(\"Found bioguide_id in the XML file.\")\n",
      "else:\n",
      "    print(\"Not found bioguide_id in the XML file.\")\n"
     ],
     "language": "python",
     "metadata": {},
     "outputs": [
      {
       "output_type": "stream",
       "stream": "stdout",
       "text": [
        "Found bioguide_id in the XML file.\n"
       ]
      }
     ],
     "prompt_number": 3
    },
    {
     "cell_type": "markdown",
     "metadata": {
      "slideshow": {
       "slide_type": "slide"
      }
     },
     "source": [
      "* The call to ``re.search()`` is used to scan the entire XML document for an occurrence of the string of interest - ``A000360``. Note that the ``re.search()`` method takes the regular expression pattern to match as the \ufb01rst argument and the string to which the search is to be applied as the second argument.\n"
     ]
    },
    {
     "cell_type": "code",
     "collapsed": false,
     "input": [
      "print(re.search(r\"A000360\",respXML))"
     ],
     "language": "python",
     "metadata": {},
     "outputs": [
      {
       "output_type": "stream",
       "stream": "stdout",
       "text": [
        "<_sre.SRE_Match object at 0x102e68b90>\n"
       ]
      }
     ],
     "prompt_number": 4
    },
    {
     "cell_type": "markdown",
     "metadata": {},
     "source": [
      "* If the regular expression pattern is detected in the ``respXML`` string, ``re.search()`` returns a *match object* which has a boolean value of true.  (We'll inspect the match object in more detail very shortly.)\n",
      "* On the other hand, if the regular expression pattern is not detected, ``re.search()`` returns ``None`` which evaluates to false in an ``if`` statement.\n",
      "* Note the use of the ``r`` pre\ufb01x when specifying the regular expression pattern. An ``r`` prefix before any string denotes that it is a raw Python string. \n",
      "\n",
      "* It is not uncommon in scraping and data pre-processing tasks to apply ``re.search()``, and related methods, hundreds, if not thousands, of times to select relevant text.\n"
     ]
    },
    {
     "cell_type": "heading",
     "level": 3,
     "metadata": {},
     "source": [
      "2.2. Regex Basics - Special sequences"
     ]
    },
    {
     "cell_type": "markdown",
     "metadata": {},
     "source": [
      "* Python provides special sequence of characters to be used when specifying regular expression patterns. \n",
      "\n",
      "\n",
      "* These special sequences act as wildcards matching a specific subset of characters - e.g. the sequence ``\\d`` matches all numeric characters. There are other special sequences that match alphanumeric characters, whitespaces, etc."
     ]
    },
    {
     "cell_type": "markdown",
     "metadata": {},
     "source": [
      "* Here is a list of special sequences that are commonly used:<br/>\n",
      "\n",
      "    * `\\d` matches any decimal digit <br/>\n",
      "    * `\\w` matches any alpha-numeric character, i.e. a-zA-Z0-9_ <br/>\n",
      "    * `\\s` matches any whitespace character such as tabs, newlines, etc. <br/>\n",
      "    * `\\D` matches any non-digit character <br/>\n",
      "    * `\\W` matches any non-alphanumeric character <br/>\n",
      "    * `\\S` matches any non-whitespace character <br/>\n",
      "    * the period/dot character, \u00b7 , matches any character except newline <br/>\n",
      "    * the period/dot character, \u00b7 , matches any character including newline when the option re.DOTALL is in use <br/>\n",
      "    * re.IGNORECASE to run a case-insensitive search."
     ]
    },
    {
     "cell_type": "heading",
     "level": 3,
     "metadata": {
      "slideshow": {
       "slide_type": "slide"
      }
     },
     "source": [
      "2.3. Regex Basics - Repetition"
     ]
    },
    {
     "cell_type": "markdown",
     "metadata": {},
     "source": [
      "* The following special characters can be used when specifying regex patterns to control the repetitions in the regular expression.\n",
      "\n",
      "     * `*` matches 0 or more repetitions of the previous pattern <br/>\n",
      "     * `+` matches 1 or more repetitions of the previous pattern <br/>\n",
      "     * `?` matches 0 or 1 repetition of the previous pattern <br/>\n",
      "     * `*?`, `+?`, `??` are non-greedy versions of the above. We'll be seeing some practical use-cases of these non-greedy versions in some of the examples that follow.\n"
     ]
    },
    {
     "cell_type": "markdown",
     "metadata": {
      "slideshow": {
       "slide_type": "slide"
      }
     },
     "source": [
      "* Here is a Python code example that uses special sequences and repetitions to match phone numbers in the string."
     ]
    },
    {
     "cell_type": "code",
     "collapsed": false,
     "input": [
      "xmlStr = \"<phone>202 224-3324</phone>\"\n",
      "\n",
      "if(re.search(r\"\\d+-\\d+\",xmlStr)):\n",
      "   print \"xmlStr contains a phone number.\"\n",
      "else:\n",
      "    print \"xmlStr does not contain a phone number.\""
     ],
     "language": "python",
     "metadata": {},
     "outputs": [
      {
       "output_type": "stream",
       "stream": "stdout",
       "text": [
        "xmlStr contains a phone number.\n"
       ]
      }
     ],
     "prompt_number": 51
    },
    {
     "cell_type": "markdown",
     "metadata": {
      "slideshow": {
       "slide_type": "slide"
      }
     },
     "source": [
      "* Now if the pattern itself contains a special sequence or a special character such as opening/closing parentheses, then these need to be escaped with a backslash. "
     ]
    },
    {
     "cell_type": "markdown",
     "metadata": {},
     "source": [
      "* In the first example here, we try to match a pattern that involves the backslash character, ``\\``. Since, the backslash character is itself a special character, in order for this to function as we expect, the special character needs to be \"escaped\". By convention, the escaping is done by prepending a backslash to the special character."
     ]
    },
    {
     "cell_type": "code",
     "collapsed": false,
     "input": [
      "gameStr = \"Rock\\Paper\\Scissors\"\n",
      "if(re.search(r\"Rock\\\\Paper\",gameStr)):\n",
      "    print(\"Match found in gameStr.\")\n",
      "else:\n",
      "    print(\"Match not found.\")"
     ],
     "language": "python",
     "metadata": {},
     "outputs": [
      {
       "output_type": "stream",
       "stream": "stdout",
       "text": [
        "Match found in gameStr.\n"
       ]
      }
     ],
     "prompt_number": 29
    },
    {
     "cell_type": "markdown",
     "metadata": {},
     "source": [
      "* In the second example below, there are parentheses around the area code: ``(202)``. The opening and closing braces have a special syntactic meaning in regular expressions as we'll encounter shortly. So, in order to use braces in our regular expression pattern, these characters have been \"escaped\" by the backslash character."
     ]
    },
    {
     "cell_type": "code",
     "collapsed": false,
     "input": [
      "xmlStr = \"<phone>(202) 224-3324</phone>\"\n",
      "\n",
      "if(re.search(r\"\\(\\d+\\) \\d+-\\d+</phone>\",xmlStr)):\n",
      "    print \"xmlStr contains a phone number.\"\n",
      "else:\n",
      "    print \"xmlStr does not contain a phone number.\""
     ],
     "language": "python",
     "metadata": {},
     "outputs": [
      {
       "output_type": "stream",
       "stream": "stdout",
       "text": [
        "xmlStr contains a phone number.\n"
       ]
      }
     ],
     "prompt_number": 54
    },
    {
     "cell_type": "code",
     "collapsed": false,
     "input": [],
     "language": "python",
     "metadata": {},
     "outputs": [],
     "prompt_number": 29
    },
    {
     "cell_type": "heading",
     "level": 3,
     "metadata": {},
     "source": [
      "2.4. Introducing the ``re.MatchObject``"
     ]
    },
    {
     "cell_type": "markdown",
     "metadata": {},
     "source": [
      "* As we saw earlier, on a successful pattern match, the ``re.search()`` method returns a match object instance (of type ``re.MatchObject``).\n",
      "* The match object has a boolean value of true which is why we can use it in an ``if`` statement to detect whether ``re.search()`` was successful or not.\n"
     ]
    },
    {
     "cell_type": "code",
     "collapsed": false,
     "input": [
      "matchObj = re.search(r\"A000360\",respXML)\n",
      "if(matchObj):\n",
      "    print \"Match was successful.\"\n",
      "else:\n",
      "    print \"Match was not successful.\""
     ],
     "language": "python",
     "metadata": {},
     "outputs": [
      {
       "output_type": "stream",
       "stream": "stdout",
       "text": [
        "Match was successful.\n"
       ]
      }
     ],
     "prompt_number": 38
    },
    {
     "cell_type": "markdown",
     "metadata": {
      "slideshow": {
       "slide_type": "slide"
      }
     },
     "source": [
      "* The match object contains other useful methods and attributes. We will use its ``group()`` method extensively in our upcoming examples.\n",
      "\n",
      "\n",
      "* A call to ``group()`` with argument zero returns the entire pattern that was matched"
     ]
    },
    {
     "cell_type": "code",
     "collapsed": false,
     "input": [
      "matchObj = re.search(r\"A000360\",respXML)\n",
      "matchObj.group(0)"
     ],
     "language": "python",
     "metadata": {},
     "outputs": [
      {
       "metadata": {},
       "output_type": "pyout",
       "prompt_number": 39,
       "text": [
        "'A000360'"
       ]
      }
     ],
     "prompt_number": 39
    },
    {
     "cell_type": "markdown",
     "metadata": {
      "slideshow": {
       "slide_type": "slide"
      }
     },
     "source": [
      "* Now, we can also use regular expression patterns to capture and extracts parts of the string using parenthesized groups and the match object as shown below. This turns out to be very useful for content extraction tasks such as in web scraping.\n",
      "* Suppose that our task was to extract the links to each of the Senator's website from the XML document. Let's try the following:"
     ]
    },
    {
     "cell_type": "code",
     "collapsed": false,
     "input": [
      "xmlStr = \"<website>http://www.alexander.senate.gov/</website>\"\n",
      "matchObj = re.search(r\"http:.*\",xmlStr)\n",
      "print matchObj.group(0)"
     ],
     "language": "python",
     "metadata": {
      "slideshow": {
       "slide_type": "-"
      }
     },
     "outputs": [
      {
       "output_type": "stream",
       "stream": "stdout",
       "text": [
        "http:\n"
       ]
      }
     ],
     "prompt_number": 40
    },
    {
     "cell_type": "markdown",
     "metadata": {
      "slideshow": {
       "slide_type": "-"
      }
     },
     "source": [
      "* This doesn't work because the ``group(0)`` call returns the pattern that was matched not the URL of the website.\n",
      "* The solution here is to use parenthesized groups **and** the match object's ``group()`` method to extract the part of the string which is of interest to us."
     ]
    },
    {
     "cell_type": "code",
     "collapsed": false,
     "input": [
      "xmlStr = \"<website>http://www.alexander.senate.gov/</website>\"\n",
      "matchObj = re.search(r\"<website>(http:.*)</website>\",xmlStr)\n",
      "print matchObj.group(1)"
     ],
     "language": "python",
     "metadata": {},
     "outputs": [
      {
       "output_type": "stream",
       "stream": "stdout",
       "text": [
        "http://www.alexander.senate.gov/\n"
       ]
      }
     ],
     "prompt_number": 41
    },
    {
     "cell_type": "markdown",
     "metadata": {
      "slideshow": {
       "slide_type": "slide"
      }
     },
     "source": [
      "* One can also match multiple groups in a given string. The corresponding parenthesized group is accessed by invoking the ``group()``\n",
      "method on the match object with the correct index. Note that the parenthesized group indices start with 1. Here is an example."
     ]
    },
    {
     "cell_type": "code",
     "collapsed": false,
     "input": [
      "xmlStr= \"<phone>202 224-3324</phone>\"\n",
      "matchObj= re.search(r\"<phone>(\\d\\d\\d) (\\d\\d\\d-\\d\\d\\d\\d)</phone>\",xmlStr)\n",
      "print \"Area code: \" + matchObj.group(1)\n",
      "print \"Phone number: \" + matchObj.group(2)"
     ],
     "language": "python",
     "metadata": {},
     "outputs": [
      {
       "output_type": "stream",
       "stream": "stdout",
       "text": [
        "Area code: 202\n",
        "Phone number: 224-3324\n"
       ]
      }
     ],
     "prompt_number": 44
    },
    {
     "cell_type": "code",
     "collapsed": false,
     "input": [],
     "language": "python",
     "metadata": {},
     "outputs": []
    },
    {
     "cell_type": "heading",
     "level": 3,
     "metadata": {},
     "source": [
      "2.5. ``re.find_all()``"
     ]
    },
    {
     "cell_type": "markdown",
     "metadata": {
      "slideshow": {
       "slide_type": "slide"
      }
     },
     "source": [
      "* As the name suggests, ``re.findall()`` \ufb01nds all the occurrences of a pattern in the given string.\n",
      "* Similar to ``re.search()`` syntax, the ``re.findall()`` method takes the following arguments:\n",
      "    * regular expression pattern to \ufb01nd \n",
      "    * the string argument to which the search is applied. \n",
      "\n",
      "\n",
      "* The ``re.findall()`` method returns a list of sub-string(s) of the string argument that match the parenthesized groups speci\ufb01ed in the regular expression pattern. In contrast, we have seen that re.search() returns a match object.\n"
     ]
    },
    {
     "cell_type": "markdown",
     "metadata": {},
     "source": [
      "* The example below extracts all the words from the given string using special sequence for alpha-numeric characters (``\\w``), the special repetition character (``+``) and the ``re.findall()`` method."
     ]
    },
    {
     "cell_type": "code",
     "collapsed": false,
     "input": [
      "gameStr = \"    Rock    Paper    Scissors\"\n",
      "gameOptions = re.findall(\"(\\w+)\",gameStr)\n",
      "print(gameOptions)"
     ],
     "language": "python",
     "metadata": {},
     "outputs": [
      {
       "output_type": "stream",
       "stream": "stdout",
       "text": [
        "['Rock', 'Paper', 'Scissors']\n"
       ]
      }
     ],
     "prompt_number": 31
    },
    {
     "cell_type": "markdown",
     "metadata": {
      "slideshow": {
       "slide_type": "fragment"
      }
     },
     "source": [
      "* Here is a more real-world example in which we use ``re.findall()`` to extract all the names(enclosed within member_full tags) and phone numbers (phone tag) in the XML document containing senator information."
     ]
    },
    {
     "cell_type": "code",
     "collapsed": false,
     "input": [
      "import urllib2\n",
      "import re\n",
      "\n",
      "URL = \"http://www.senate.gov/general/contact_information/senators_cfm.xml\"\n",
      "XMLStr = urllib2.urlopen(URL).read()\n",
      "\n",
      "# use regular expressions to extract all the names and phone numbers\n",
      "names = re.findall(r\"<member_full>(.*)<\\/member_full>\",XMLStr)\n",
      "phones = re.findall(r\"<phone>(.*)<\\/phone>\",XMLStr)\n",
      "\n",
      "for(name,phone) in zip(names[0:10],phones[0:10]):\n",
      "    print(\"{0},{1}\".format(name,phone))"
     ],
     "language": "python",
     "metadata": {
      "slideshow": {
       "slide_type": "fragment"
      }
     },
     "outputs": [
      {
       "output_type": "stream",
       "stream": "stdout",
       "text": [
        "Alexander (R-TN),(202) 224-4944\n",
        "Ayotte (R-NH),(202) 224-3324\n",
        "Baldwin (D-WI),(202) 224-5653\n",
        "Barrasso (R-WY),(202) 224-6441\n",
        "Begich (D-AK),(202) 224-3004\n",
        "Bennet (D-CO),(202) 224-5852\n",
        "Blumenthal (D-CT),(202) 224-2823\n",
        "Blunt (R-MO),(202) 224-5721\n",
        "Booker (D-NJ),(202) 224-3224\n",
        "Boozman (R-AR),(202) 224-4843\n"
       ]
      }
     ],
     "prompt_number": 58
    },
    {
     "cell_type": "markdown",
     "metadata": {
      "slideshow": {
       "slide_type": "notes"
      }
     },
     "source": [
      "* This example demonstrates good use of the parenthesized groups functionality that Python's ``re`` module provides.  \n",
      "\n",
      "    Here, although the starting and ending HTML tags must be speci\ufb01ed in the regex pattern, there still needs to be a way to extract the text of interest. The text of interest is not the HTML tags but rather the strings within the `<member_full>` `</member_full>` and `<phone>` `</phone>` tag pairs. In order to capture this, we parenthesize those portions of the regex pattern that would match the strings within the `<member_full> </member_full>` and `<phone> </phone>` tag pairs. The text from the XML document that matches parenthesized groups in the regex patterns is returned in separate names and phones lists by ``re.findall()`` .\n",
      "\n",
      "\n",
      "* In the code above, since we called ``re.findall()`` twice, once to \ufb01nd all the strings marked up by the `<member_full> </member_full>` tags and a second time to \ufb01nd all the strings marked up by the `<phone> </phone>`\n",
      "tags, two lists are returned - one list comprising of member names and another list of phone numbers. Also\n",
      "note the use of the r pre\ufb01x when specifying the regular expression pattern in the call to ``findall()`` .\n",
      "\n"
     ]
    },
    {
     "cell_type": "heading",
     "level": 3,
     "metadata": {
      "slideshow": {
       "slide_type": "slide"
      }
     },
     "source": [
      "2.6. ``re.DOTALL`` & the non-greedy ``?`` operator"
     ]
    },
    {
     "cell_type": "markdown",
     "metadata": {},
     "source": [
      "* In the context of scraping HTML and XML documents, use of the ``re.DOTALL`` constant with ``re.search()`` and ``re.findall()`` comes handy.\n",
      "* When ``re.DOTALL`` is specified as the third argument in ``re.search()`` or ``re.findall()``, the period/stop wildcard character matches any character except a new line.\n",
      "\n",
      "\n",
      "* So, in the following example, the address string won't be extracted as the `.*` in the regular expression pattern implies that the search is for content within opening and closing address tags on the same line.\n",
      "\n"
     ]
    },
    {
     "cell_type": "code",
     "collapsed": false,
     "input": [
      "xmlStr = '''<address>\n",
      "                144 RUSSELL SENATE OFFICE BUILDING WASHINGTON DC 20510\n",
      "            </address>'''\n",
      "\n",
      "matchObj = re.search(\"<address>(.*)</address>\",xmlStr)\n",
      "\n",
      "if(matchObj):\n",
      "    print(\"Found address string: {0}\".format(matchObj.group(1)))\n",
      "else:\n",
      "    print(\"Address string not found.\")"
     ],
     "language": "python",
     "metadata": {},
     "outputs": [
      {
       "output_type": "stream",
       "stream": "stdout",
       "text": [
        "Address string not found.\n"
       ]
      }
     ],
     "prompt_number": 64
    },
    {
     "cell_type": "markdown",
     "metadata": {
      "slideshow": {
       "slide_type": "slide"
      }
     },
     "source": [
      "* However, use of ``re.DOTALL`` modifies the behaviour of the ```.``` wildcard, so that it matches all characters including a new line.\n",
      "* So, if we included the ``re.DOTALL`` constant in the earlier call to ``re.search()``, it would match the multi-line text within the `<address>` tags. This is shown below."
     ]
    },
    {
     "cell_type": "code",
     "collapsed": false,
     "input": [
      "xmlStr = '''<address>\n",
      "                144 RUSSELL SENATE OFFICE BUILDING WASHINGTON DC 20510\n",
      "            </address>'''\n",
      "\n",
      "matchObj = re.search(\"<address>(.*)</address>\",xmlStr,re.DOTALL)\n",
      "\n",
      "if(matchObj):\n",
      "    print(\"Found address string: {0}\".format(matchObj.group(1)))\n",
      "else:\n",
      "    print(\"Address string not found.\")"
     ],
     "language": "python",
     "metadata": {
      "slideshow": {
       "slide_type": "-"
      }
     },
     "outputs": [
      {
       "output_type": "stream",
       "stream": "stdout",
       "text": [
        "Found address string: \n",
        "                144 RUSSELL SENATE OFFICE BUILDING WASHINGTON DC 20510\n",
        "            \n"
       ]
      }
     ],
     "prompt_number": 32
    },
    {
     "cell_type": "markdown",
     "metadata": {
      "slideshow": {
       "slide_type": "slide"
      }
     },
     "source": [
      "* Now, using ``re.DOTALL`` liberally may not always work as intended. It can lead us to the following situation. Here we are still trying to extract addresses, but instead of returning multiple addresses, ``re.findall`` returns just one, highly confusing string match with multiple XML elements.\n",
      "* Can you guess what has happened here?"
     ]
    },
    {
     "cell_type": "code",
     "collapsed": false,
     "input": [
      "xmlStr = '''<address>\n",
      "               455 DIRKSEN SENATE OFFICE BUILDING WASHINGTON DC 20510\n",
      "            </address>\n",
      "            ..blah,blah\n",
      "            <address>\n",
      "                144 RUSSELL SENATE OFFICE BUILDING WASHINGTON DC 20510\n",
      "            </address>'''\n",
      "\n",
      "matchList = re.findall(\"<address>(.*)</address>\",xmlStr,re.DOTALL)\n",
      "\n",
      "for matchItem in matchList:\n",
      "    print matchItem.strip()"
     ],
     "language": "python",
     "metadata": {},
     "outputs": [
      {
       "output_type": "stream",
       "stream": "stdout",
       "text": [
        "455 DIRKSEN SENATE OFFICE BUILDING WASHINGTON DC 20510\n",
        "            </address>\n",
        "            ..blah,blah\n",
        "            <address>\n",
        "                144 RUSSELL SENATE OFFICE BUILDING WASHINGTON DC 20510\n"
       ]
      }
     ],
     "prompt_number": 68
    },
    {
     "cell_type": "markdown",
     "metadata": {
      "slideshow": {
       "slide_type": "slide"
      }
     },
     "source": [
      "* In order to overcome the default greedy nature of regular expression matching, we'll need to employ the `?` special character to make pattern matching non-greedy. "
     ]
    },
    {
     "cell_type": "code",
     "collapsed": false,
     "input": [
      "xmlStr = '''<address>\n",
      "               455 DIRKSEN SENATE OFFICE BUILDING WASHINGTON DC 20510\n",
      "            </address>\n",
      "            ..blah,blah\n",
      "            <address>\n",
      "                144 RUSSELL SENATE OFFICE BUILDING WASHINGTON DC 20510\n",
      "            </address>'''\n",
      "\n",
      "matchList = re.findall(\"<address>(.*?)</address>\",xmlStr,re.DOTALL)\n",
      "\n",
      "for matchItem in matchList:\n",
      "    print matchItem.strip()"
     ],
     "language": "python",
     "metadata": {},
     "outputs": [
      {
       "output_type": "stream",
       "stream": "stdout",
       "text": [
        "455 DIRKSEN SENATE OFFICE BUILDING WASHINGTON DC 20510\n",
        "144 RUSSELL SENATE OFFICE BUILDING WASHINGTON DC 20510\n"
       ]
      }
     ],
     "prompt_number": 69
    },
    {
     "cell_type": "markdown",
     "metadata": {},
     "source": [
      "\n",
      "\n"
     ]
    },
    {
     "cell_type": "markdown",
     "metadata": {},
     "source": [
      "* Here is another version of the earlier example that extracts Senators' full names and phone numbers. This uses the entire machinery of special sequences, the ``re.DOTALL`` constant and non-greedy operator as well as parenthesized groups to obtain a very succinct way to extract the information of interest.\n",
      "\n",
      "* Try running the code below with the greedy version of the regular expression, i.e., with ``*`` instead of ``*?`` - - it should be apparent why the greedy ``\u2217`` wildcard character does\u2019t work"
     ]
    },
    {
     "cell_type": "code",
     "collapsed": false,
     "input": [
      "import urllib2\n",
      "import re\n",
      "\n",
      "URL = \"http://www.senate.gov/general/contact_information/senators_cfm.xml\"\n",
      "XMLStr = urllib2.urlopen(URL).read()\n",
      "\n",
      "details = re.findall(\\\n",
      "                r\"<member_full>(\\w+\\s\\(\\w+-\\w+\\))<\\/member_full>.*?<phone>(\\(\\d+\\)\\s\\d+-\\d+)<\\/phone>\",\\\n",
      "                XMLStr, re.DOTALL)\n",
      "\n",
      "# for detail in details:\n",
      "for detail in details[:10]:\n",
      "    print(\"{0},{1}\".format(detail[0],detail[1]))"
     ],
     "language": "python",
     "metadata": {},
     "outputs": [
      {
       "output_type": "stream",
       "stream": "stdout",
       "text": [
        "Alexander (R-TN),(202) 224-4944\n",
        "Ayotte (R-NH),(202) 224-3324\n",
        "Baldwin (D-WI),(202) 224-5653\n",
        "Barrasso (R-WY),(202) 224-6441\n",
        "Begich (D-AK),(202) 224-3004\n",
        "Bennet (D-CO),(202) 224-5852\n",
        "Blumenthal (D-CT),(202) 224-2823\n",
        "Blunt (R-MO),(202) 224-5721\n",
        "Booker (D-NJ),(202) 224-3224\n",
        "Boozman (R-AR),(202) 224-4843\n"
       ]
      }
     ],
     "prompt_number": 10
    },
    {
     "cell_type": "markdown",
     "metadata": {},
     "source": [
      "\n",
      "\n"
     ]
    },
    {
     "cell_type": "markdown",
     "metadata": {},
     "source": [
      "* In fact, due to the well-structuredness of this XML document, there is an even more compact version of the\n",
      "code shown below."
     ]
    },
    {
     "cell_type": "code",
     "collapsed": false,
     "input": [
      "import urllib2\n",
      "import re\n",
      "\n",
      "URL = \"http://www.senate.gov/general/contact_information/senators_cfm.xml\"\n",
      "XMLStr = urllib2.urlopen(URL).read()\n",
      "\n",
      "details = re.findall(r\"<member_full>(.*?)<\\/member_full>.*?<phone>(.*?)<\\/phone>\",XMLStr,re.DOTALL)\n",
      "\n",
      "#for detail in details:\n",
      "for detail in details[:10]:\n",
      "    print(\"%s,%s\" % detail)\n"
     ],
     "language": "python",
     "metadata": {},
     "outputs": [
      {
       "output_type": "stream",
       "stream": "stdout",
       "text": [
        "Alexander (R-TN),(202) 224-4944\n",
        "Ayotte (R-NH),(202) 224-3324\n",
        "Baldwin (D-WI),(202) 224-5653\n",
        "Barrasso (R-WY),(202) 224-6441\n",
        "Begich (D-AK),(202) 224-3004\n",
        "Bennet (D-CO),(202) 224-5852\n",
        "Blumenthal (D-CT),(202) 224-2823\n",
        "Blunt (R-MO),(202) 224-5721\n",
        "Booker (D-NJ),(202) 224-3224\n",
        "Boozman (R-AR),(202) 224-4843\n"
       ]
      }
     ],
     "prompt_number": 11
    },
    {
     "cell_type": "heading",
     "level": 3,
     "metadata": {
      "slideshow": {
       "slide_type": "slide"
      }
     },
     "source": [
      "2.7. ``re.IGNORECASE`` constant "
     ]
    },
    {
     "cell_type": "markdown",
     "metadata": {},
     "source": [
      "* re.IGNORECASE is another ``re`` module constant which is particularly useful.\n"
     ]
    },
    {
     "cell_type": "markdown",
     "metadata": {},
     "source": [
      "* As an example, consider the following situation where we would like to count the number of occurrences of the word \"together\" in the text of a speech. And we do not know *a-priori* whether the string of interest is going to show up in lower-case letters or with its first letter capitalized."
     ]
    },
    {
     "cell_type": "code",
     "collapsed": false,
     "input": [
      "# Text from the U.K. Prime Minister David Cameron's speech on 'The Importance of Scotland to the UK'.\n",
      "# https://www.gov.uk/government/speeches/the-importance-of-scotland-to-the-uk-david-camerons-speech\n",
      "\n",
      "speechStr = '''We have come through the great recession together: our \n",
      "               deficit down by a third; our economy growing; our exports \n",
      "               to China doubled. And I believe we stand a much, much \n",
      "               better chance of building a prosperous future together.\n",
      "\n",
      "               Now, the third reason we\u2019re stronger together is our place \n",
      "               in the world. Together, we get a seat at the UN Security \n",
      "               Council, real clout in NATO and Europe, the prestige to host \n",
      "               events like the G8. Together we\u2019ve got the finest armed forces \n",
      "               on our planet. I think of the fighter pilots originally \n",
      "               operating from RAF Lossiemouth who flew sorties over Libya; the \n",
      "               legendary Scottish titles now part of the Royal Regiment of \n",
      "               Scotland, like the Black Watch and the Highlanders. I think of \n",
      "               the shipyards on the Forth and Clyde, where \u2013 alongside shipyards \n",
      "               in the rest of the UK \u2013 they are building the Queen Elizabeth \n",
      "               aircraft carrier, launching this year to secure the seas and \n",
      "               to keep us safe.\n",
      "\n",
      "            '''\n",
      "wordRefs = re.findall(\"(together)\",speechStr,re.IGNORECASE)\n",
      "print(\"Number of references to the term `together` are: {0}.\".format(len(wordRefs)))"
     ],
     "language": "python",
     "metadata": {},
     "outputs": [
      {
       "output_type": "stream",
       "stream": "stdout",
       "text": [
        "Number of references to the term `together` are: 5.\n"
       ]
      }
     ],
     "prompt_number": 72
    },
    {
     "cell_type": "markdown",
     "metadata": {},
     "source": [
      "\n"
     ]
    },
    {
     "cell_type": "markdown",
     "metadata": {},
     "source": [
      "* Going back to our U.S. Senators' XML example, let's consider that our task is to extract all the contact urls in the XML document containing the Senators' information.\n",
      "\n",
      "* Based on visual inspection, the contact URLs in the XML source have either the word ``contact`` or ``email`` in them. Also, these words can occur as uppercase or lowercase characters. Hence, a solution is to use re.IGNORECASE and run a case-insensitive search as shown below."
     ]
    },
    {
     "cell_type": "code",
     "collapsed": false,
     "input": [
      "import urllib2\n",
      "import re\n",
      "\n",
      "URL = \"http://www.senate.gov/general/contact_information/senators_cfm.xml\"\n",
      "XMLStr = urllib2.urlopen(URL).read()\n",
      "\n",
      "contactDetails = re.findall(r\"(http:.*?(contact|email).*?)\",XMLStr,re.IGNORECASE)\n",
      "\n",
      "for contactDetail in contactDetails[:10]:\n",
      "    print(\"{0}\".format(contactDetail[0]))"
     ],
     "language": "python",
     "metadata": {},
     "outputs": [
      {
       "output_type": "stream",
       "stream": "stdout",
       "text": [
        "http://www.alexander.senate.gov/public/index.cfm?p=Email\n",
        "http://www.ayotte.senate.gov/?p=contact\n",
        "http://www.baldwin.senate.gov/contact\n",
        "http://www.barrasso.senate.gov/public/index.cfm?FuseAction=Contact\n",
        "http://www.begich.senate.gov/public/index.cfm?p=Email\n",
        "http://www.bennet.senate.gov/contact\n",
        "http://www.blumenthal.senate.gov/contact\n",
        "http://www.blunt.senate.gov/public/index.cfm/contact\n",
        "http://www.booker.senate.gov/?p=contact\n",
        "http://www.boozman.senate.gov/public/index.cfm/e-mail-me</email\n"
       ]
      }
     ],
     "prompt_number": 83
    },
    {
     "cell_type": "markdown",
     "metadata": {},
     "source": [
      "\n"
     ]
    },
    {
     "cell_type": "heading",
     "level": 3,
     "metadata": {
      "slideshow": {
       "slide_type": "slide"
      }
     },
     "source": [
      "2.8. Using ``re.sub()``"
     ]
    },
    {
     "cell_type": "markdown",
     "metadata": {},
     "source": [
      "* ``re.sub()`` provides functionality to subsitute patterns in a given string. \n",
      "* The ``re.sub()`` method takes the regex pattern as the \ufb01rst argument, the replacement string as the second argument and the third argument is the string argument to which the (possibly, multiple) subsitutions will be applied.\n",
      "\n",
      "\n",
      "* In the example below, we use ``re.sub()`` to replace backslashes (``\\``) in the string with commas."
     ]
    },
    {
     "cell_type": "code",
     "collapsed": false,
     "input": [
      "gameStr = \"Rock\\Paper\\Scissors\"\n",
      "gameOptions = re.sub(r\"\\\\\",\",\",gameStr)\n",
      "print(gameOptions)"
     ],
     "language": "python",
     "metadata": {},
     "outputs": [
      {
       "output_type": "stream",
       "stream": "stdout",
       "text": [
        "Rock,Paper,Scissors\n"
       ]
      }
     ],
     "prompt_number": 82
    },
    {
     "cell_type": "markdown",
     "metadata": {},
     "source": [
      "\n"
     ]
    },
    {
     "cell_type": "markdown",
     "metadata": {},
     "source": [
      "* Here is an example that extracts the phone numbers from the XML document which are originally in the format: (xxx) xxx-xxxx and replaces these strings to produce the phone numbers in the format: xxx-xxx-xxxx."
     ]
    },
    {
     "cell_type": "code",
     "collapsed": false,
     "input": [
      "import urllib2\n",
      "import re\n",
      "\n",
      "xmlStr = urllib2.urlopen(\"http://www.senate.gov/general/contact_information/senators_cfm.xml\").read()\n",
      "\n",
      "phNumbers = re.findall(r\"<phone>(\\(\\d+\\) \\d+-\\d+)</phone>\",XMLStr,re.DOTALL)\n",
      "\n",
      "for phNumber in phNumbers[0:5]:\n",
      "    print(\"Original Format: {0} Modified Format:{0}\".format(phNumber,re.sub(r\"\\((\\d+)\\)\\s(\\d+)-(\\d+)\",\"\\g<1>-\\g<2>-\\g<3>\",phNumber)))"
     ],
     "language": "python",
     "metadata": {},
     "outputs": [
      {
       "output_type": "stream",
       "stream": "stdout",
       "text": [
        "Original Format: (202) 224-4944 Modified Format:(202) 224-4944\n",
        "Original Format: (202) 224-3324 Modified Format:(202) 224-3324\n",
        "Original Format: (202) 224-5653 Modified Format:(202) 224-5653\n",
        "Original Format: (202) 224-6441 Modified Format:(202) 224-6441\n",
        "Original Format: (202) 224-3004 Modified Format:(202) 224-3004\n"
       ]
      }
     ],
     "prompt_number": 76
    },
    {
     "cell_type": "markdown",
     "metadata": {
      "slideshow": {
       "slide_type": "notes"
      }
     },
     "source": [
      "The technique for capturing groups from the regex matches by parenthesizing the relevant portions has been used in the call to ``re.sub()`` above. The regex pattern captures the three groups of digits comprising a phone number. In the ``re.sub()`` method call, once these groups are captured, they are referenced again, in the replacement string (2nd argument of ``re.sub()``), using the ``\\g<>`` syntax. Finally, the three groups of digits are re-used, this time separated by hyphens as per our preferred format for a phone number."
     ]
    },
    {
     "cell_type": "heading",
     "level": 3,
     "metadata": {
      "slideshow": {
       "slide_type": "slide"
      }
     },
     "source": [
      "2.9. ``re.compile()`` and pattern objects"
     ]
    },
    {
     "cell_type": "markdown",
     "metadata": {},
     "source": [
      "* We've seen that the ``re.search()`` and ``re.findall()`` invocations take the regular expression pattern, which is to be matched, as the first argument. The regular expression pattern is passed as a string argument.\n",
      "* An alternative to this is to compile the pattern into a pattern object and then use\n",
      "the pattern object in the pattern matching operations that re provides.\n",
      "* Pattern objects make writing code with regular expressions easier. \n",
      "    * A short variable name can be used to refer to the often complex regular expression strings. \n",
      "    * This is especially useful if that regular expression is used repeatedly in the code."
     ]
    },
    {
     "cell_type": "markdown",
     "metadata": {},
     "source": [
      "* The example below demonstrates use of pattern objects to extract the U.S Senators\u2019 contact information from the XML document that we have been working with so far."
     ]
    },
    {
     "cell_type": "code",
     "collapsed": false,
     "input": [
      "import re\n",
      "import urllib2\n",
      "fileString = urllib2.urlopen(\"http://www.senate.gov/general/contact_information/senators_cfm.xml\").read()\n",
      "\n",
      "pattern1 = re.compile(r\"<member_full>(.*?)<\\/member_full>.*?<phone>(.*?)<\\/phone>\",re.DOTALL)\n",
      "pattern2 = re.compile(r\"\\((\\d+)\\)\\s+(\\d+)-(\\d+)\")\n",
      "\n",
      "details = pattern1.findall(fileString)\n",
      "\n",
      "for detail in details[0:10]:\n",
      "    print(\"{0},{1}\".format(detail[0],detail[1]))\n"
     ],
     "language": "python",
     "metadata": {},
     "outputs": [
      {
       "output_type": "stream",
       "stream": "stdout",
       "text": [
        "Alexander (R-TN),(202) 224-4944\n",
        "Ayotte (R-NH),(202) 224-3324\n",
        "Baldwin (D-WI),(202) 224-5653\n",
        "Barrasso (R-WY),(202) 224-6441\n",
        "Begich (D-AK),(202) 224-3004\n",
        "Bennet (D-CO),(202) 224-5852\n",
        "Blumenthal (D-CT),(202) 224-2823\n",
        "Blunt (R-MO),(202) 224-5721\n",
        "Booker (D-NJ),(202) 224-3224\n",
        "Boozman (R-AR),(202) 224-4843\n"
       ]
      }
     ],
     "prompt_number": 72
    },
    {
     "cell_type": "heading",
     "level": 3,
     "metadata": {
      "slideshow": {
       "slide_type": "slide"
      }
     },
     "source": [
      "2.10. Postscript"
     ]
    },
    {
     "cell_type": "markdown",
     "metadata": {},
     "source": [
      "These materials are by no measure an exhaustive survey of regular expressions in Python.We will encounter\n",
      "more features of the re module as we work through examples and code in this workshop. For an exhaustive\n",
      "list of re\u2019s pattern matching capabilites, please refer to, http://docs.python.org/2/howto/regex.html or https://docs.python.org/3.1/library/re.html."
     ]
    }
   ],
   "metadata": {}
  }
 ]
}
