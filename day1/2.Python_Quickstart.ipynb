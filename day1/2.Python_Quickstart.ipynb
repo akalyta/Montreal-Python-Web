{
 "metadata": {
  "name": ""
 },
 "nbformat": 3,
 "nbformat_minor": 0,
 "worksheets": [
  {
   "cells": [
    {
     "cell_type": "heading",
     "level": 1,
     "metadata": {},
     "source": [
      "Python Quickstart"
     ]
    },
    {
     "cell_type": "markdown",
     "metadata": {},
     "source": [
      "**Workshop on Web Scraping and Text Processing with Python**"
     ]
    },
    {
     "cell_type": "markdown",
     "metadata": {},
     "source": [
      "**by Radhika Saksena, Princeton University, saksena@princeton.edu, radhika.saksena@gmail.com**"
     ]
    },
    {
     "cell_type": "markdown",
     "metadata": {},
     "source": [
      "*Disclaimer: The code examples presented in this workshop are for educational purposes only. Please seek advice from a legal expert about the legal implications of using this code for web scraping.*"
     ]
    },
    {
     "cell_type": "heading",
     "level": 2,
     "metadata": {},
     "source": [
      "1. First things first"
     ]
    },
    {
     "cell_type": "markdown",
     "metadata": {},
     "source": [
      "This notebook describes some Python basics which we will be using throughout the workshop. Please go through this material and try out the code examples using IPython Notebook which comes with Anaconda (https://store.continuum.io/cshop/anaconda/)."
     ]
    },
    {
     "cell_type": "heading",
     "level": 3,
     "metadata": {},
     "source": [
      "1.1 Executing code in IPython Notebook"
     ]
    },
    {
     "cell_type": "markdown",
     "metadata": {},
     "source": [
      "* Click within an existing `\"Code\"` Cell or write new code in a `\"Code\"` Cell.\n",
      "* Type shift-Enter to execute the Python code contained in the Cell."
     ]
    },
    {
     "cell_type": "heading",
     "level": 3,
     "metadata": {},
     "source": [
      "1.2 Python Indentation"
     ]
    },
    {
     "cell_type": "markdown",
     "metadata": {},
     "source": [
      "* Indentation is significant in Python. Instead of curly braces to demarcate a code block (as in C++, Java, R, etc.), consecutive statements with the same level of indentation are identified as being in the same block.\n",
      "\n",
      "* Any number of spaces is valid indentation. Four spaces for each level of indentation is conventional among programmers.\n",
      "* In IPython Notebook, simply use the [tab] key for each new level of indentation. This gets converted to four spaces automatically."
     ]
    },
    {
     "cell_type": "heading",
     "level": 3,
     "metadata": {},
     "source": [
      "1.3 Comments in Python"
     ]
    },
    {
     "cell_type": "markdown",
     "metadata": {},
     "source": [
      "* Single-line comments start with a # symbol and end with the end of the line\n",
      "* Comments can be placed on a line by themselves"
     ]
    },
    {
     "cell_type": "code",
     "collapsed": false,
     "input": [
      "# Assign value 1 to variable x\n",
      "x = 1"
     ],
     "language": "python",
     "metadata": {},
     "outputs": [],
     "prompt_number": 22
    },
    {
     "cell_type": "markdown",
     "metadata": {},
     "source": [
      "* Comments can also be placed on the same line as the code as shown here."
     ]
    },
    {
     "cell_type": "code",
     "collapsed": false,
     "input": [
      "x = 1 # Assign value 1 to variable x"
     ],
     "language": "python",
     "metadata": {},
     "outputs": []
    },
    {
     "cell_type": "markdown",
     "metadata": {},
     "source": [
      "* For multi-line comments, use triple-quoted strings."
     ]
    },
    {
     "cell_type": "code",
     "collapsed": false,
     "input": [
      "\"\"\"This is a multi-line comment.\n",
      "Assign value 1 to variable x.\"\"\"\n",
      "x = 1"
     ],
     "language": "python",
     "metadata": {},
     "outputs": []
    },
    {
     "cell_type": "heading",
     "level": 3,
     "metadata": {},
     "source": [
      "1.4 Python's print() function"
     ]
    },
    {
     "cell_type": "markdown",
     "metadata": {},
     "source": [
      "The print function is used to print variables and expressions to screen. print() offers a lot of functionality which we'll encounter during the workshop. For now, note that:<br/>\n"
     ]
    },
    {
     "cell_type": "markdown",
     "metadata": {},
     "source": [
      "* You can pass anything to the print() function and it will attempt to print its arguments."
     ]
    },
    {
     "cell_type": "code",
     "collapsed": false,
     "input": [
      "print(1) # Print a constant"
     ],
     "language": "python",
     "metadata": {},
     "outputs": [
      {
       "output_type": "stream",
       "stream": "stdout",
       "text": [
        "1\n"
       ]
      }
     ],
     "prompt_number": 24
    },
    {
     "cell_type": "code",
     "collapsed": false,
     "input": [
      "x = 2014\n",
      "print(x) # Print an integer variable"
     ],
     "language": "python",
     "metadata": {},
     "outputs": [
      {
       "output_type": "stream",
       "stream": "stdout",
       "text": [
        "2014\n"
       ]
      }
     ],
     "prompt_number": 25
    },
    {
     "cell_type": "code",
     "collapsed": false,
     "input": [
      "xstr = \"Hello World.\" # Print a string\n",
      "print(xstr)\n"
     ],
     "language": "python",
     "metadata": {},
     "outputs": [
      {
       "output_type": "stream",
       "stream": "stdout",
       "text": [
        "Hello World.\n"
       ]
      }
     ],
     "prompt_number": 26
    },
    {
     "cell_type": "code",
     "collapsed": false,
     "input": [
      "print(x,xstr) # Print multiple objects\n"
     ],
     "language": "python",
     "metadata": {},
     "outputs": [
      {
       "output_type": "stream",
       "stream": "stdout",
       "text": [
        "(2014, 'Hello World.')\n"
       ]
      }
     ],
     "prompt_number": 27
    },
    {
     "cell_type": "code",
     "collapsed": false,
     "input": [
      "print(\"String 1\" + \" \" + \"String2\") # Concatenate multiple strings and print them"
     ],
     "language": "python",
     "metadata": {},
     "outputs": [
      {
       "output_type": "stream",
       "stream": "stdout",
       "text": [
        "String 1 String2\n"
       ]
      }
     ],
     "prompt_number": 28
    },
    {
     "cell_type": "markdown",
     "metadata": {},
     "source": [
      "* For web-scraping and text-processing type tasks, we'd like better control over how things get printed out, such as the number of decimal places when printing out floating point numbers. Use the format() method on the string to be printed out to control the output format."
     ]
    },
    {
     "cell_type": "code",
     "collapsed": false,
     "input": [
      "x = 1\n",
      "print(\"Formatted integer is {0:06d}\".format(x)) # Note the format specification, 06d, for the integer."
     ],
     "language": "python",
     "metadata": {},
     "outputs": [
      {
       "output_type": "stream",
       "stream": "stdout",
       "text": [
        "Formatted integer is 000001\n"
       ]
      }
     ],
     "prompt_number": 29
    },
    {
     "cell_type": "code",
     "collapsed": false,
     "input": [
      "y = 12.66666666667\n",
      "print(\"Formatted floating point number is {0:2.3f}\".format(y)) # Note the format specification, 2.3f, for the floating point number."
     ],
     "language": "python",
     "metadata": {},
     "outputs": [
      {
       "output_type": "stream",
       "stream": "stdout",
       "text": [
        "Formatted floating point number is 12.667\n"
       ]
      }
     ],
     "prompt_number": 30
    },
    {
     "cell_type": "code",
     "collapsed": false,
     "input": [
      "\n",
      "iStr = \"Hello World\"\n",
      "fStr = \"Goodbye World\"\n",
      "print(\"Initial string: {0:s} . Final string: {1:s}.\".format(iStr,fStr)) # Note the format specification, s, for the string."
     ],
     "language": "python",
     "metadata": {},
     "outputs": [
      {
       "output_type": "stream",
       "stream": "stdout",
       "text": [
        "Initial string: Hello World . Final string: Goodbye World.\n"
       ]
      }
     ],
     "prompt_number": 31
    },
    {
     "cell_type": "code",
     "collapsed": false,
     "input": [
      "print(\"Initial string: {0} . Final string: {1}.\".format(iStr,fStr)) # In this case, omitting the s format specified works too."
     ],
     "language": "python",
     "metadata": {},
     "outputs": [
      {
       "output_type": "stream",
       "stream": "stdout",
       "text": [
        "Initial string: Hello World . Final string: Goodbye World.\n"
       ]
      }
     ],
     "prompt_number": 32
    },
    {
     "cell_type": "markdown",
     "metadata": {},
     "source": [
      "* The parentheses in the print() function are optional in Python 2. So, the following syntax for print is valid:"
     ]
    },
    {
     "cell_type": "code",
     "collapsed": true,
     "input": [
      "x = 1\n",
      "print \"Formatted integer is {0:06d}\".format(x) \n",
      "\n"
     ],
     "language": "python",
     "metadata": {},
     "outputs": [
      {
       "output_type": "stream",
       "stream": "stdout",
       "text": [
        "Formatted integer is 000001\n"
       ]
      }
     ],
     "prompt_number": 34
    },
    {
     "cell_type": "code",
     "collapsed": false,
     "input": [
      "y = 12.66666666667\n",
      "print \"Formatted floating point number is {0:2.3f}\".format(y)"
     ],
     "language": "python",
     "metadata": {},
     "outputs": [
      {
       "output_type": "stream",
       "stream": "stdout",
       "text": [
        "Formatted floating point number is 12.667\n"
       ]
      }
     ],
     "prompt_number": 33
    },
    {
     "cell_type": "heading",
     "level": 2,
     "metadata": {},
     "source": [
      "2. Numeric Variable Types"
     ]
    },
    {
     "cell_type": "heading",
     "level": 3,
     "metadata": {},
     "source": [
      "2.1 Integers"
     ]
    },
    {
     "cell_type": "code",
     "collapsed": false,
     "input": [
      "year = 2014\n",
      "print(year)"
     ],
     "language": "python",
     "metadata": {},
     "outputs": [
      {
       "output_type": "stream",
       "stream": "stdout",
       "text": [
        "2014\n"
       ]
      }
     ],
     "prompt_number": 35
    },
    {
     "cell_type": "code",
     "collapsed": false,
     "input": [
      "print(\"The year is %d.\" % year)"
     ],
     "language": "python",
     "metadata": {},
     "outputs": [
      {
       "output_type": "stream",
       "stream": "stdout",
       "text": [
        "The year is 2014.\n"
       ]
      }
     ],
     "prompt_number": 36
    },
    {
     "cell_type": "code",
     "collapsed": false,
     "input": [
      "print(type(year))"
     ],
     "language": "python",
     "metadata": {},
     "outputs": [
      {
       "output_type": "stream",
       "stream": "stdout",
       "text": [
        "<type 'int'>\n"
       ]
      }
     ],
     "prompt_number": 37
    },
    {
     "cell_type": "code",
     "collapsed": false,
     "input": [
      "help(year)"
     ],
     "language": "python",
     "metadata": {},
     "outputs": [
      {
       "output_type": "stream",
       "stream": "stdout",
       "text": [
        "Help on int object:\n",
        "\n",
        "class int(object)\n",
        " |  int(x=0) -> int or long\n",
        " |  int(x, base=10) -> int or long\n",
        " |  \n",
        " |  Convert a number or string to an integer, or return 0 if no arguments\n",
        " |  are given.  If x is floating point, the conversion truncates towards zero.\n",
        " |  If x is outside the integer range, the function returns a long instead.\n",
        " |  \n",
        " |  If x is not a number or if base is given, then x must be a string or\n",
        " |  Unicode object representing an integer literal in the given base.  The\n",
        " |  literal can be preceded by '+' or '-' and be surrounded by whitespace.\n",
        " |  The base defaults to 10.  Valid bases are 0 and 2-36.  Base 0 means to\n",
        " |  interpret the base from the string as an integer literal.\n",
        " |  >>> int('0b100', base=0)\n",
        " |  4\n",
        " |  \n",
        " |  Methods defined here:\n",
        " |  \n",
        " |  __abs__(...)\n",
        " |      x.__abs__() <==> abs(x)\n",
        " |  \n",
        " |  __add__(...)\n",
        " |      x.__add__(y) <==> x+y\n",
        " |  \n",
        " |  __and__(...)\n",
        " |      x.__and__(y) <==> x&y\n",
        " |  \n",
        " |  __cmp__(...)\n",
        " |      x.__cmp__(y) <==> cmp(x,y)\n",
        " |  \n",
        " |  __coerce__(...)\n",
        " |      x.__coerce__(y) <==> coerce(x, y)\n",
        " |  \n",
        " |  __div__(...)\n",
        " |      x.__div__(y) <==> x/y\n",
        " |  \n",
        " |  __divmod__(...)\n",
        " |      x.__divmod__(y) <==> divmod(x, y)\n",
        " |  \n",
        " |  __float__(...)\n",
        " |      x.__float__() <==> float(x)\n",
        " |  \n",
        " |  __floordiv__(...)\n",
        " |      x.__floordiv__(y) <==> x//y\n",
        " |  \n",
        " |  __format__(...)\n",
        " |  \n",
        " |  __getattribute__(...)\n",
        " |      x.__getattribute__('name') <==> x.name\n",
        " |  \n",
        " |  __getnewargs__(...)\n",
        " |  \n",
        " |  __hash__(...)\n",
        " |      x.__hash__() <==> hash(x)\n",
        " |  \n",
        " |  __hex__(...)\n",
        " |      x.__hex__() <==> hex(x)\n",
        " |  \n",
        " |  __index__(...)\n",
        " |      x[y:z] <==> x[y.__index__():z.__index__()]\n",
        " |  \n",
        " |  __int__(...)\n",
        " |      x.__int__() <==> int(x)\n",
        " |  \n",
        " |  __invert__(...)\n",
        " |      x.__invert__() <==> ~x\n",
        " |  \n",
        " |  __long__(...)\n",
        " |      x.__long__() <==> long(x)\n",
        " |  \n",
        " |  __lshift__(...)\n",
        " |      x.__lshift__(y) <==> x<<y\n",
        " |  \n",
        " |  __mod__(...)\n",
        " |      x.__mod__(y) <==> x%y\n",
        " |  \n",
        " |  __mul__(...)\n",
        " |      x.__mul__(y) <==> x*y\n",
        " |  \n",
        " |  __neg__(...)\n",
        " |      x.__neg__() <==> -x\n",
        " |  \n",
        " |  __nonzero__(...)\n",
        " |      x.__nonzero__() <==> x != 0\n",
        " |  \n",
        " |  __oct__(...)\n",
        " |      x.__oct__() <==> oct(x)\n",
        " |  \n",
        " |  __or__(...)\n",
        " |      x.__or__(y) <==> x|y\n",
        " |  \n",
        " |  __pos__(...)\n",
        " |      x.__pos__() <==> +x\n",
        " |  \n",
        " |  __pow__(...)\n",
        " |      x.__pow__(y[, z]) <==> pow(x, y[, z])\n",
        " |  \n",
        " |  __radd__(...)\n",
        " |      x.__radd__(y) <==> y+x\n",
        " |  \n",
        " |  __rand__(...)\n",
        " |      x.__rand__(y) <==> y&x\n",
        " |  \n",
        " |  __rdiv__(...)\n",
        " |      x.__rdiv__(y) <==> y/x\n",
        " |  \n",
        " |  __rdivmod__(...)\n",
        " |      x.__rdivmod__(y) <==> divmod(y, x)\n",
        " |  \n",
        " |  __repr__(...)\n",
        " |      x.__repr__() <==> repr(x)\n",
        " |  \n",
        " |  __rfloordiv__(...)\n",
        " |      x.__rfloordiv__(y) <==> y//x\n",
        " |  \n",
        " |  __rlshift__(...)\n",
        " |      x.__rlshift__(y) <==> y<<x\n",
        " |  \n",
        " |  __rmod__(...)\n",
        " |      x.__rmod__(y) <==> y%x\n",
        " |  \n",
        " |  __rmul__(...)\n",
        " |      x.__rmul__(y) <==> y*x\n",
        " |  \n",
        " |  __ror__(...)\n",
        " |      x.__ror__(y) <==> y|x\n",
        " |  \n",
        " |  __rpow__(...)\n",
        " |      y.__rpow__(x[, z]) <==> pow(x, y[, z])\n",
        " |  \n",
        " |  __rrshift__(...)\n",
        " |      x.__rrshift__(y) <==> y>>x\n",
        " |  \n",
        " |  __rshift__(...)\n",
        " |      x.__rshift__(y) <==> x>>y\n",
        " |  \n",
        " |  __rsub__(...)\n",
        " |      x.__rsub__(y) <==> y-x\n",
        " |  \n",
        " |  __rtruediv__(...)\n",
        " |      x.__rtruediv__(y) <==> y/x\n",
        " |  \n",
        " |  __rxor__(...)\n",
        " |      x.__rxor__(y) <==> y^x\n",
        " |  \n",
        " |  __str__(...)\n",
        " |      x.__str__() <==> str(x)\n",
        " |  \n",
        " |  __sub__(...)\n",
        " |      x.__sub__(y) <==> x-y\n",
        " |  \n",
        " |  __truediv__(...)\n",
        " |      x.__truediv__(y) <==> x/y\n",
        " |  \n",
        " |  __trunc__(...)\n",
        " |      Truncating an Integral returns itself.\n",
        " |  \n",
        " |  __xor__(...)\n",
        " |      x.__xor__(y) <==> x^y\n",
        " |  \n",
        " |  bit_length(...)\n",
        " |      int.bit_length() -> int\n",
        " |      \n",
        " |      Number of bits necessary to represent self in binary.\n",
        " |      >>> bin(37)\n",
        " |      '0b100101'\n",
        " |      >>> (37).bit_length()\n",
        " |      6\n",
        " |  \n",
        " |  conjugate(...)\n",
        " |      Returns self, the complex conjugate of any int.\n",
        " |  \n",
        " |  ----------------------------------------------------------------------\n",
        " |  Data descriptors defined here:\n",
        " |  \n",
        " |  denominator\n",
        " |      the denominator of a rational number in lowest terms\n",
        " |  \n",
        " |  imag\n",
        " |      the imaginary part of a complex number\n",
        " |  \n",
        " |  numerator\n",
        " |      the numerator of a rational number in lowest terms\n",
        " |  \n",
        " |  real\n",
        " |      the real part of a complex number\n",
        " |  \n",
        " |  ----------------------------------------------------------------------\n",
        " |  Data and other attributes defined here:\n",
        " |  \n",
        " |  __new__ = <built-in method __new__ of type object>\n",
        " |      T.__new__(S, ...) -> a new object with type S, a subtype of T\n",
        "\n"
       ]
      }
     ],
     "prompt_number": 38
    },
    {
     "cell_type": "code",
     "collapsed": false,
     "input": [
      "help(int)"
     ],
     "language": "python",
     "metadata": {},
     "outputs": []
    },
    {
     "cell_type": "heading",
     "level": 3,
     "metadata": {},
     "source": [
      "2.2. Floating Point Numbers"
     ]
    },
    {
     "cell_type": "code",
     "collapsed": false,
     "input": [
      "mean = (1.0 + 0.7 + 2.1)/3.0\n",
      "print(mean)"
     ],
     "language": "python",
     "metadata": {},
     "outputs": [
      {
       "output_type": "stream",
       "stream": "stdout",
       "text": [
        "1.26666666667\n"
       ]
      }
     ],
     "prompt_number": 39
    },
    {
     "cell_type": "code",
     "collapsed": false,
     "input": [
      "print(\"The mean is %6.2f.\" % mean)"
     ],
     "language": "python",
     "metadata": {},
     "outputs": [
      {
       "output_type": "stream",
       "stream": "stdout",
       "text": [
        "The mean is   1.27.\n"
       ]
      }
     ],
     "prompt_number": 40
    },
    {
     "cell_type": "code",
     "collapsed": false,
     "input": [
      "print(type(mean))"
     ],
     "language": "python",
     "metadata": {},
     "outputs": [
      {
       "output_type": "stream",
       "stream": "stdout",
       "text": [
        "<type 'float'>\n"
       ]
      }
     ],
     "prompt_number": 41
    },
    {
     "cell_type": "code",
     "collapsed": false,
     "input": [
      "help(mean)"
     ],
     "language": "python",
     "metadata": {},
     "outputs": []
    },
    {
     "cell_type": "code",
     "collapsed": false,
     "input": [
      "help(float)"
     ],
     "language": "python",
     "metadata": {},
     "outputs": []
    },
    {
     "cell_type": "markdown",
     "metadata": {},
     "source": [
      "*Beware of integer divisions in Python 2.*"
     ]
    },
    {
     "cell_type": "code",
     "collapsed": false,
     "input": [
      "mean = (1 + 2)/2\n",
      "print(mean)"
     ],
     "language": "python",
     "metadata": {},
     "outputs": []
    },
    {
     "cell_type": "markdown",
     "metadata": {},
     "source": [
      "To fix this, either explicitly use floating point variables:"
     ]
    },
    {
     "cell_type": "code",
     "collapsed": false,
     "input": [
      "mean = (1.0 + 2.0)/2\n",
      "print(mean)"
     ],
     "language": "python",
     "metadata": {},
     "outputs": []
    },
    {
     "cell_type": "markdown",
     "metadata": {},
     "source": [
      "Or change the behaviour of the division operator:"
     ]
    },
    {
     "cell_type": "code",
     "collapsed": false,
     "input": [
      "from __future__ import division\n",
      "mean = (1 + 2)/2\n",
      "print(mean)"
     ],
     "language": "python",
     "metadata": {},
     "outputs": []
    },
    {
     "cell_type": "heading",
     "level": 2,
     "metadata": {},
     "source": [
      "3. Basic Operators"
     ]
    },
    {
     "cell_type": "heading",
     "level": 3,
     "metadata": {},
     "source": [
      "3.1 Arithmetic Operators"
     ]
    },
    {
     "cell_type": "markdown",
     "metadata": {},
     "source": [
      "Standard arithmetic operators for addition (+), subtraction (-), multiplication (*) and division (/) are supported in Python. We have already seen use of the addition (+) and division (/) operators. Some more operators that are commonly encountered are demonstrated below."
     ]
    },
    {
     "cell_type": "code",
     "collapsed": false,
     "input": [
      "x = 2**3  # ** is the exponentiation operator\n",
      "print(x)"
     ],
     "language": "python",
     "metadata": {},
     "outputs": [
      {
       "output_type": "stream",
       "stream": "stdout",
       "text": [
        "8\n"
       ]
      }
     ],
     "prompt_number": 43
    },
    {
     "cell_type": "code",
     "collapsed": false,
     "input": [
      "x = 9 % 4 # % is the modulus operator\n",
      "print(x)"
     ],
     "language": "python",
     "metadata": {},
     "outputs": [
      {
       "output_type": "stream",
       "stream": "stdout",
       "text": [
        "1\n"
       ]
      }
     ],
     "prompt_number": 44
    },
    {
     "cell_type": "code",
     "collapsed": false,
     "input": [
      "x = 9 // 4 # // is the operator for floor division\n",
      "print(x)"
     ],
     "language": "python",
     "metadata": {},
     "outputs": [
      {
       "output_type": "stream",
       "stream": "stdout",
       "text": [
        "2\n"
       ]
      }
     ],
     "prompt_number": 45
    },
    {
     "cell_type": "heading",
     "level": 3,
     "metadata": {},
     "source": [
      "3.2. Assignment Operators"
     ]
    },
    {
     "cell_type": "markdown",
     "metadata": {},
     "source": [
      "In addition to using the = (simple assignment operator) for assigning values to variables, one can use a composite assignment operator(+=, -=, etc.) that combines the simple assignment operator with all of these arithmetic expressions. For example:"
     ]
    },
    {
     "cell_type": "code",
     "collapsed": false,
     "input": [
      "x = 2.0\n",
      "y = 5.0\n",
      "y += x # y = y + x\n",
      "print(y)\n",
      "\n",
      "y %= x # y = y%x\n",
      "print(y)"
     ],
     "language": "python",
     "metadata": {},
     "outputs": [
      {
       "output_type": "stream",
       "stream": "stdout",
       "text": [
        "7.0\n",
        "1.0\n"
       ]
      }
     ],
     "prompt_number": 46
    },
    {
     "cell_type": "heading",
     "level": 3,
     "metadata": {},
     "source": [
      "3.3. Comparison Operators"
     ]
    },
    {
     "cell_type": "code",
     "collapsed": false,
     "input": [
      "x = 1\n",
      "y = 1\n",
      "x == y # Check for equality"
     ],
     "language": "python",
     "metadata": {},
     "outputs": [
      {
       "metadata": {},
       "output_type": "pyout",
       "prompt_number": 47,
       "text": [
        "True"
       ]
      }
     ],
     "prompt_number": 47
    },
    {
     "cell_type": "code",
     "collapsed": false,
     "input": [
      "x = 1\n",
      "y = 1\n",
      "x != 1 # Check for inequality"
     ],
     "language": "python",
     "metadata": {},
     "outputs": [
      {
       "metadata": {},
       "output_type": "pyout",
       "prompt_number": 48,
       "text": [
        "False"
       ]
      }
     ],
     "prompt_number": 48
    },
    {
     "cell_type": "code",
     "collapsed": false,
     "input": [
      "x = 0.5\n",
      "y = 1.0\n",
      "x > y # Check if x greater than y"
     ],
     "language": "python",
     "metadata": {},
     "outputs": [
      {
       "metadata": {},
       "output_type": "pyout",
       "prompt_number": 50,
       "text": [
        "False"
       ]
      }
     ],
     "prompt_number": 50
    },
    {
     "cell_type": "code",
     "collapsed": false,
     "input": [
      "x < y # Check if x less than y"
     ],
     "language": "python",
     "metadata": {},
     "outputs": [
      {
       "metadata": {},
       "output_type": "pyout",
       "prompt_number": 51,
       "text": [
        "True"
       ]
      }
     ],
     "prompt_number": 51
    },
    {
     "cell_type": "code",
     "collapsed": false,
     "input": [
      "x >= y # Check if x greater than equal to y"
     ],
     "language": "python",
     "metadata": {},
     "outputs": [
      {
       "metadata": {},
       "output_type": "pyout",
       "prompt_number": 52,
       "text": [
        "False"
       ]
      }
     ],
     "prompt_number": 52
    },
    {
     "cell_type": "code",
     "collapsed": false,
     "input": [
      "x <= y # Check if x less than equal to y"
     ],
     "language": "python",
     "metadata": {},
     "outputs": [
      {
       "metadata": {},
       "output_type": "pyout",
       "prompt_number": 53,
       "text": [
        "True"
       ]
      }
     ],
     "prompt_number": 53
    },
    {
     "cell_type": "heading",
     "level": 3,
     "metadata": {},
     "source": [
      "3.4. Logical Operators"
     ]
    },
    {
     "cell_type": "markdown",
     "metadata": {},
     "source": [
      "Logical operators such as <tt>and</tt>, <tt>or</tt>, <tt>not</tt> allow specification of composite conditions, for example in <tt>if</tt> statements as we will see shortly."
     ]
    },
    {
     "cell_type": "code",
     "collapsed": false,
     "input": [
      "a = 99\n",
      "b = 99\n",
      "(a == b) and (a <= 100) # use the and operator to check if both the operands are true"
     ],
     "language": "python",
     "metadata": {},
     "outputs": [
      {
       "metadata": {},
       "output_type": "pyout",
       "prompt_number": 54,
       "text": [
        "True"
       ]
      }
     ],
     "prompt_number": 54
    },
    {
     "cell_type": "code",
     "collapsed": false,
     "input": [
      "a = True\n",
      "b = False\n",
      "a and b"
     ],
     "language": "python",
     "metadata": {},
     "outputs": [
      {
       "metadata": {},
       "output_type": "pyout",
       "prompt_number": 55,
       "text": [
        "False"
       ]
      }
     ],
     "prompt_number": 55
    },
    {
     "cell_type": "code",
     "collapsed": false,
     "input": [
      "a = True\n",
      "b = False\n",
      "a or b # use the or operator to check if at least one of the two operands is true"
     ],
     "language": "python",
     "metadata": {},
     "outputs": [
      {
       "metadata": {},
       "output_type": "pyout",
       "prompt_number": 56,
       "text": [
        "True"
       ]
      }
     ],
     "prompt_number": 56
    },
    {
     "cell_type": "code",
     "collapsed": false,
     "input": [
      "a = 100\n",
      "b = 100\n",
      "a == b\n",
      "not(a == b) # use the not operator to reverse a logical statement"
     ],
     "language": "python",
     "metadata": {},
     "outputs": [
      {
       "metadata": {},
       "output_type": "pyout",
       "prompt_number": 57,
       "text": [
        "False"
       ]
      }
     ],
     "prompt_number": 57
    },
    {
     "cell_type": "heading",
     "level": 2,
     "metadata": {},
     "source": [
      "4. Strings"
     ]
    },
    {
     "cell_type": "markdown",
     "metadata": {},
     "source": [
      "* A string is a sequence of characters. \n",
      "* Strings are specified by using single quotes (' ') or double quotes (\" \"). Multi-line strings can be specified with triple quotes."
     ]
    },
    {
     "cell_type": "code",
     "collapsed": false,
     "input": [
      "pythonStr = 'A first Python string.' # String specified with single quotes.\n",
      "print(type(pythonStr))\n",
      "print(pythonStr)\n"
     ],
     "language": "python",
     "metadata": {},
     "outputs": [
      {
       "output_type": "stream",
       "stream": "stdout",
       "text": [
        "<type 'str'>\n",
        "A first Python string.\n"
       ]
      }
     ],
     "prompt_number": 58
    },
    {
     "cell_type": "code",
     "collapsed": false,
     "input": [
      "pythonStr = \"A first Python string\" # String specified with double quotes.\n",
      "print(type(pythonStr))\n",
      "print(pythonStr)\n"
     ],
     "language": "python",
     "metadata": {},
     "outputs": [
      {
       "output_type": "stream",
       "stream": "stdout",
       "text": [
        "<type 'str'>\n",
        "A first Python string\n"
       ]
      }
     ],
     "prompt_number": 59
    },
    {
     "cell_type": "code",
     "collapsed": false,
     "input": [
      "pythonStr = \"\"\"A multi-line string.\n",
      "A first Python string.\"\"\"               # Multi-line string specified with triple quotes.\n",
      "print(type(pythonStr))\n",
      "print(pythonStr)"
     ],
     "language": "python",
     "metadata": {},
     "outputs": [
      {
       "output_type": "stream",
       "stream": "stdout",
       "text": [
        "<type 'str'>\n",
        "A multi-line string.\n",
        "A first Python string.\n"
       ]
      }
     ],
     "prompt_number": 61
    },
    {
     "cell_type": "markdown",
     "metadata": {},
     "source": [
      "* Strings can be concatenated using the addition(+) operator."
     ]
    },
    {
     "cell_type": "code",
     "collapsed": false,
     "input": [
      "str1 = \" Rock \"\n",
      "str2 = \" Paper \"\n",
      "str3 = \" Scissors \"\n",
      "longStr = str1 + str2 + str3\n",
      "print(longStr)"
     ],
     "language": "python",
     "metadata": {},
     "outputs": [
      {
       "output_type": "stream",
       "stream": "stdout",
       "text": [
        " Rock  Paper  Scissors \n"
       ]
      }
     ],
     "prompt_number": 62
    },
    {
     "cell_type": "markdown",
     "metadata": {},
     "source": [
      "* Strings can also be repeated with the multiplication (*) operator."
     ]
    },
    {
     "cell_type": "code",
     "collapsed": false,
     "input": [
      "str1 = \"Rock,Paper,Scissors\\n\"\n",
      "repeatStr = str1*5\n",
      "print(repeatStr)"
     ],
     "language": "python",
     "metadata": {},
     "outputs": [
      {
       "output_type": "stream",
       "stream": "stdout",
       "text": [
        "Rock,Paper,Scissors\n",
        "Rock,Paper,Scissors\n",
        "Rock,Paper,Scissors\n",
        "Rock,Paper,Scissors\n",
        "Rock,Paper,Scissors\n",
        "\n"
       ]
      }
     ],
     "prompt_number": 63
    },
    {
     "cell_type": "markdown",
     "metadata": {},
     "source": [
      "* The len() function returns the length of a string."
     ]
    },
    {
     "cell_type": "code",
     "collapsed": false,
     "input": [
      "str1 = \"Python\"\n",
      "lenStr1 = len(str1)\n",
      "print(\"The length of str: is \" + str(lenStr1) + \".\")"
     ],
     "language": "python",
     "metadata": {},
     "outputs": [
      {
       "output_type": "stream",
       "stream": "stdout",
       "text": [
        "The length of str: is 6.\n"
       ]
      }
     ],
     "prompt_number": 65
    },
    {
     "cell_type": "markdown",
     "metadata": {},
     "source": [
      "* Since, the Python string is a sequence of characters, individual characters in the string can be indexed. Note that, **unlike R**, in Python sequences indexing starts at 0 and goes up to one less than the length of the sequence."
     ]
    },
    {
     "cell_type": "code",
     "collapsed": false,
     "input": [
      "str1 = \"Python\"\n",
      "print(str1[0]) # Print the first character element of the string."
     ],
     "language": "python",
     "metadata": {},
     "outputs": [
      {
       "output_type": "stream",
       "stream": "stdout",
       "text": [
        "P\n"
       ]
      }
     ],
     "prompt_number": 68
    },
    {
     "cell_type": "code",
     "collapsed": false,
     "input": [
      "print(str1[len(str1)-1]) # Print the last character element of the string."
     ],
     "language": "python",
     "metadata": {},
     "outputs": [
      {
       "output_type": "stream",
       "stream": "stdout",
       "text": [
        "n\n"
       ]
      }
     ],
     "prompt_number": 69
    },
    {
     "cell_type": "code",
     "collapsed": false,
     "input": [
      "print(str1[2:4]) # Print a 2-element slice of the string, starting from the 2-nd element up to but not including the 4-th element."
     ],
     "language": "python",
     "metadata": {},
     "outputs": [
      {
       "output_type": "stream",
       "stream": "stdout",
       "text": [
        "th\n"
       ]
      }
     ],
     "prompt_number": 70
    },
    {
     "cell_type": "markdown",
     "metadata": {},
     "source": [
      "* Strings are immutable. That is, an existing instance of a string cannot be modified. Instead, a new string that contains the modification should be created."
     ]
    },
    {
     "cell_type": "code",
     "collapsed": false,
     "input": [
      "str1 = \"Python\"\n",
      "str1[1] = \"3\" # Error, strings can't be modified."
     ],
     "language": "python",
     "metadata": {},
     "outputs": [
      {
       "ename": "TypeError",
       "evalue": "'str' object does not support item assignment",
       "output_type": "pyerr",
       "traceback": [
        "\u001b[0;31m---------------------------------------------------------------------------\u001b[0m\n\u001b[0;31mTypeError\u001b[0m                                 Traceback (most recent call last)",
        "\u001b[0;32m<ipython-input-67-eb0ede1872df>\u001b[0m in \u001b[0;36m<module>\u001b[0;34m()\u001b[0m\n\u001b[1;32m      1\u001b[0m \u001b[0mstr1\u001b[0m \u001b[0;34m=\u001b[0m \u001b[0;34m\"Python\"\u001b[0m\u001b[0;34m\u001b[0m\u001b[0m\n\u001b[0;32m----> 2\u001b[0;31m \u001b[0mstr1\u001b[0m\u001b[0;34m[\u001b[0m\u001b[0;36m1\u001b[0m\u001b[0;34m]\u001b[0m \u001b[0;34m=\u001b[0m \u001b[0;34m\"3\"\u001b[0m \u001b[0;31m# Error, strings can't be modified.\u001b[0m\u001b[0;34m\u001b[0m\u001b[0m\n\u001b[0m",
        "\u001b[0;31mTypeError\u001b[0m: 'str' object does not support item assignment"
       ]
      }
     ],
     "prompt_number": 67
    },
    {
     "cell_type": "markdown",
     "metadata": {},
     "source": [
      "* Strings come with some powerful methods (https://docs.python.org/2/library/stdtypes.html#string-methods). Some of the string methods that we will often use in web scraping are shown bellow."
     ]
    },
    {
     "cell_type": "code",
     "collapsed": false,
     "input": [
      "str1 = \"Python\"\n",
      "print(str1.upper()) # Convert str1 to all uppercase."
     ],
     "language": "python",
     "metadata": {},
     "outputs": [
      {
       "output_type": "stream",
       "stream": "stdout",
       "text": [
        "PYTHON\n"
       ]
      }
     ],
     "prompt_number": 71
    },
    {
     "cell_type": "code",
     "collapsed": false,
     "input": [
      "str2 = \"PYTHON\"\n",
      "print(str1.lower()) # Convert str2 to all lowercase."
     ],
     "language": "python",
     "metadata": {},
     "outputs": [
      {
       "output_type": "stream",
       "stream": "stdout",
       "text": [
        "python\n"
       ]
      }
     ],
     "prompt_number": 72
    },
    {
     "cell_type": "code",
     "collapsed": false,
     "input": [
      "str3 = \"Rock,Paper,Scissors,Lizard,Spock\"\n",
      "print(str3.split(\",\")) # Split str3 using \",\" as the separator. A list of string elements is returned."
     ],
     "language": "python",
     "metadata": {},
     "outputs": [
      {
       "output_type": "stream",
       "stream": "stdout",
       "text": [
        "['Rock', 'Paper', 'Scissors', 'Lizard', 'Spock']\n"
       ]
      }
     ],
     "prompt_number": 73
    },
    {
     "cell_type": "code",
     "collapsed": false,
     "input": [
      "str4 = \"The original string has trailing spaces.\\t\\n\"\n",
      "print(\"***\"+str4.strip()+\"***\") # Print stripped string with trailing space characters removed."
     ],
     "language": "python",
     "metadata": {},
     "outputs": [
      {
       "output_type": "stream",
       "stream": "stdout",
       "text": [
        "***The original string has trailing spaces.***\n"
       ]
      }
     ],
     "prompt_number": 74
    },
    {
     "cell_type": "heading",
     "level": 2,
     "metadata": {},
     "source": [
      "5. Python Data Structures"
     ]
    },
    {
     "cell_type": "heading",
     "level": 3,
     "metadata": {},
     "source": [
      "5.1 Lists"
     ]
    },
    {
     "cell_type": "markdown",
     "metadata": {},
     "source": [
      "* List is an indexed collection of items. Each of the list items can be of arbitrary type. Note the square brackets in the pyList list declaration below. The len() function returns the length of the list."
     ]
    },
    {
     "cell_type": "code",
     "collapsed": false,
     "input": [
      "# pyList contains an integer, string and floating point number\n",
      "pyList = [2014,\"02 June\", 74.5]\n",
      "\n",
      "# Print all the elements of pyList\n",
      "print(pyList)\n",
      "print(\"\\n\")\n",
      "\n",
      "# Print the length of pyList obtained using the len() function\n",
      "print(\"Length of pyList is: {0}.\\n\".format(len(pyList)))"
     ],
     "language": "python",
     "metadata": {},
     "outputs": [
      {
       "output_type": "stream",
       "stream": "stdout",
       "text": [
        "[2014, '02 June', 74.5]\n",
        "\n",
        "\n",
        "Length of pyList is: 3.\n",
        "\n"
       ]
      }
     ],
     "prompt_number": 75
    },
    {
     "cell_type": "markdown",
     "metadata": {},
     "source": [
      "* List elements can be individually referenced using their index in the list. Python indexing starts with 0 and runs up to the length of the sequence - 1. The square bracket is used to specify the index in to the list. This notation can also be used to assign values to the elements of the list. In contrast to strings, lists are mutable."
     ]
    },
    {
     "cell_type": "code",
     "collapsed": false,
     "input": [
      "print(pyList)\n",
      "print(\"\\n\")\n",
      "\n",
      "# Print the first element of pyList. Remember, indexing starts with 0.\n",
      "print(\"First element of pyList: {0}.\\n\".format(pyList[0]))\n",
      "\n",
      "# Print the last element of pyList. Last element can be conveniently indexed using -1.\n",
      "print(\"Last element of pyList: {0}.\\n\".format(pyList[-1]))\n",
      "\n",
      "# Also the last element has index = (length of list - 1)\n",
      "check = (pyList[2] == pyList[-1])\n",
      "print(\"Is pyList[2] equal to pyList[-1]?\\n{0}.\\n\".format(check))\n",
      "\n",
      "# Assign a new value to the third element of the list\n",
      "pyList[2] = -99.0\n",
      "print(\"Modified element of pyList[2]: {0}.\\n\".format(pyList[2]))"
     ],
     "language": "python",
     "metadata": {},
     "outputs": [
      {
       "output_type": "stream",
       "stream": "stdout",
       "text": [
        "[2014, '02 June', 100.0]\n",
        "\n",
        "\n",
        "First element of pyList: 2014.\n",
        "\n",
        "Last element of pyList: 100.0.\n",
        "\n",
        "Is pyList[2] equal to pyList[-1]?\n",
        "True.\n",
        "\n",
        "Modified element of pyList[2]: -99.0.\n",
        "\n"
       ]
      }
     ],
     "prompt_number": 85
    },
    {
     "cell_type": "markdown",
     "metadata": {},
     "source": [
      "* Python lists can be sliced using the slice notation of two indices separated by a colon. An omitted first index indicates 0 and an omitted second index indicates the length of the list/sequence."
     ]
    },
    {
     "cell_type": "code",
     "collapsed": false,
     "input": [
      "pyList = [\"rock\",\"paper\",\"scissors\",\"lizard\",\"Spock\"]\n",
      "\n",
      "print(pyList[2:4]) # Print elements of a starting from the second, up to but not including the fourth."
     ],
     "language": "python",
     "metadata": {},
     "outputs": [
      {
       "output_type": "stream",
       "stream": "stdout",
       "text": [
        "['scissors', 'lizard']\n"
       ]
      }
     ],
     "prompt_number": 86
    },
    {
     "cell_type": "code",
     "collapsed": false,
     "input": [
      "print(pyList[:2])  # Print the first two elements of pyList."
     ],
     "language": "python",
     "metadata": {},
     "outputs": [
      {
       "output_type": "stream",
       "stream": "stdout",
       "text": [
        "['rock', 'paper']\n"
       ]
      }
     ],
     "prompt_number": 87
    },
    {
     "cell_type": "code",
     "collapsed": false,
     "input": [
      "print(pyList[2:]) # Print all the elements of pyList starting from the second."
     ],
     "language": "python",
     "metadata": {},
     "outputs": [
      {
       "output_type": "stream",
       "stream": "stdout",
       "text": [
        "['scissors', 'lizard', 'Spock']\n"
       ]
      }
     ],
     "prompt_number": 88
    },
    {
     "cell_type": "code",
     "collapsed": false,
     "input": [
      "print(pyList[:])  # Print all the elements of pyList"
     ],
     "language": "python",
     "metadata": {},
     "outputs": [
      {
       "output_type": "stream",
       "stream": "stdout",
       "text": [
        "['rock', 'paper', 'scissors', 'lizard', 'Spock']\n"
       ]
      }
     ],
     "prompt_number": 89
    },
    {
     "cell_type": "markdown",
     "metadata": {},
     "source": [
      "* Python slice notation can also be used to assign into lists."
     ]
    },
    {
     "cell_type": "code",
     "collapsed": false,
     "input": [
      "pyList = [\"rock\",\"paper\",\"scissors\",\"lizard\",\"Spock\"]\n",
      "\n",
      "pyList[2:4] = [\"gu\",\"pa\"] # Replace the second and third elements of pyList\n",
      "\n",
      "print(\"Original contents of pyList:\")\n",
      "print(pyList)\n",
      "print(\"\\n\")\n",
      "\n",
      "pyList[:] = [] # Clear pyList, replace all items with an empty list\n",
      "\n",
      "print(\"Modified contents of pyList:\")\n",
      "print(pyList)"
     ],
     "language": "python",
     "metadata": {},
     "outputs": [
      {
       "output_type": "stream",
       "stream": "stdout",
       "text": [
        "Original contents of pyList:\n",
        "['rock', 'paper', 'gu', 'pa', 'Spock']\n",
        "\n",
        "\n",
        "Modified contents of pyList:\n",
        "[]\n"
       ]
      }
     ],
     "prompt_number": 8
    },
    {
     "cell_type": "markdown",
     "metadata": {},
     "source": [
      "* Python lists come with useful methods to add elements - append() and extend()"
     ]
    },
    {
     "cell_type": "code",
     "collapsed": false,
     "input": [
      "pyList = [\"rock\",\"paper\"]\n",
      "print(\"Printing Python list pyList:\")\n",
      "print(pyList)\n",
      "print(\"\\n\")\n",
      "\n",
      "pyList.append(\"scissors\")\n",
      "print(\"Appended the string 'scissors' to pyList:\")\n",
      "print(pyList)\n",
      "print(\"\\n\")\n",
      "\n",
      "anotherList = [\"lizard\",\"Spock\"]\n",
      "pyList.extend(anotherList)\n",
      "print(\"Extended pyList:\")\n",
      "print(pyList)\n",
      "print(\"\\n\")"
     ],
     "language": "python",
     "metadata": {},
     "outputs": [
      {
       "output_type": "stream",
       "stream": "stdout",
       "text": [
        "Printing Python list pyList:\n",
        "['rock', 'paper']\n",
        "\n",
        "\n",
        "Appended the string 'scissors' to pyList:\n",
        "['rock', 'paper', 'scissors']\n",
        "\n",
        "\n",
        "Extended pyList:\n",
        "['rock', 'paper', 'scissors', 'lizard', 'Spock']\n",
        "\n",
        "\n"
       ]
      }
     ],
     "prompt_number": 9
    },
    {
     "cell_type": "markdown",
     "metadata": {},
     "source": [
      "* Python lists can be concatenated using the \"+\" operator (similar to strings)."
     ]
    },
    {
     "cell_type": "code",
     "collapsed": false,
     "input": [
      "pyList1 = [\"rock\",\"paper\",\"scissors\"]\n",
      "pyList2 = [\"lizard\",\"Spock\"]\n",
      "newList = pyList1 + pyList2\n",
      "print(\"New list:\")\n",
      "print(newList)"
     ],
     "language": "python",
     "metadata": {},
     "outputs": [
      {
       "output_type": "stream",
       "stream": "stdout",
       "text": [
        "New list:\n",
        "['rock', 'paper', 'scissors', 'lizard', 'Spock']\n"
       ]
      }
     ],
     "prompt_number": 10
    },
    {
     "cell_type": "markdown",
     "metadata": {},
     "source": [
      "* Python lists can be nested - list within a list within a list and so on. An index needs to be specified for each level of nesting. "
     ]
    },
    {
     "cell_type": "code",
     "collapsed": false,
     "input": [
      "pyLists = [[\"rock\",\"paper\",\"scissors\"], [\"ji\",\"gu\",\"pa\"]]\n",
      "\n",
      "# Print the first element (0-th index) of pyLists which is itself a list\n",
      "print(\"pyLists[0] = \")\n",
      "print(pyLists[0])\n",
      "print(\"\\n\")\n",
      "\n",
      "# Print the 0-th index element of the first list element in pyLists\n",
      "print(\"pylists[0][0] = \" + pyLists[0][0] + \".\")\n",
      "print(\"\\n\")\n",
      "\n",
      "# Print the second element of pyLists which is itself a list\n",
      "print(\"pyLists[1] = \")\n",
      "print(pyLists[1])\n",
      "print(\"\\n\")\n",
      "\n",
      "# Print the 0-th index element of the second list element in pyLists\n",
      "print(\"pyLists[1][0] = \" + pyLists[1][0] + \".\")\n",
      "print(\"\\n\")"
     ],
     "language": "python",
     "metadata": {},
     "outputs": [
      {
       "output_type": "stream",
       "stream": "stdout",
       "text": [
        "pyLists[0] = \n",
        "['rock', 'paper', 'scissors']\n",
        "\n",
        "\n",
        "pylists[0][0] = rock.\n",
        "\n",
        "\n",
        "pyLists[1] = \n",
        "['ji', 'gu', 'pa']\n",
        "\n",
        "\n",
        "pyLists[1][0] = ji.\n",
        "\n",
        "\n"
       ]
      }
     ],
     "prompt_number": 19
    },
    {
     "cell_type": "code",
     "collapsed": false,
     "input": [
      "pyList = [1,3,4,2]\n",
      "pyList.sort(reverse=True)\n",
      "sum(pyList)\n",
      "2*(pyList)\n",
      "#2**(pyList)"
     ],
     "language": "python",
     "metadata": {},
     "outputs": [
      {
       "metadata": {},
       "output_type": "pyout",
       "prompt_number": 21,
       "text": [
        "[4, 3, 2, 1, 4, 3, 2, 1]"
       ]
      }
     ],
     "prompt_number": 21
    },
    {
     "cell_type": "heading",
     "level": 3,
     "metadata": {},
     "source": [
      "5.2. Tuples"
     ]
    },
    {
     "cell_type": "markdown",
     "metadata": {},
     "source": [
      "* Tuples are another sequence data type consisting of arbitrary items separated by commas. In contrast to lists, tuples are immutable, i.e., they cannot be modified. See below for a declaration of a tuple. Note the parentheses in the declaration."
     ]
    },
    {
     "cell_type": "code",
     "collapsed": false,
     "input": [
      "# pyTuple contains an integer, string and floating point number\n",
      "pyTuple = (2014,\"02 June\", 74.5)\n",
      "\n",
      "# Print all the elements of pyTuple\n",
      "print(\"pyTuple is: \")\n",
      "print(pyTuple)\n",
      "print(\"\\n\")\n",
      "\n",
      "# Print the length of pyTuple obtained using the len() function\n",
      "print(\"Length of pyTuple is: {0}.\\n\".format(len(pyTuple)))"
     ],
     "language": "python",
     "metadata": {},
     "outputs": [
      {
       "output_type": "stream",
       "stream": "stdout",
       "text": [
        "pyTuple is: \n",
        "(2014, '02 June', 74.5)\n",
        "\n",
        "\n",
        "Length of pyTuple is: 3.\n",
        "\n"
       ]
      }
     ],
     "prompt_number": 91
    },
    {
     "cell_type": "markdown",
     "metadata": {},
     "source": [
      "* Tuples are immutable. Attempting to change elements of a tuple will result in errors."
     ]
    },
    {
     "cell_type": "code",
     "collapsed": false,
     "input": [
      "pyTuple[1] = \"31 December\" # Error as pyTuple is a tuple and hence, immutable"
     ],
     "language": "python",
     "metadata": {},
     "outputs": [
      {
       "ename": "TypeError",
       "evalue": "'tuple' object does not support item assignment",
       "output_type": "pyerr",
       "traceback": [
        "\u001b[0;31m---------------------------------------------------------------------------\u001b[0m\n\u001b[0;31mTypeError\u001b[0m                                 Traceback (most recent call last)",
        "\u001b[0;32m<ipython-input-92-5df9ae13c0e7>\u001b[0m in \u001b[0;36m<module>\u001b[0;34m()\u001b[0m\n\u001b[0;32m----> 1\u001b[0;31m \u001b[0mpyTuple\u001b[0m\u001b[0;34m[\u001b[0m\u001b[0;36m1\u001b[0m\u001b[0;34m]\u001b[0m \u001b[0;34m=\u001b[0m \u001b[0;34m\"31 December\"\u001b[0m \u001b[0;31m# Error as pyTuple is a tuple and hence, immutable\u001b[0m\u001b[0;34m\u001b[0m\u001b[0m\n\u001b[0m",
        "\u001b[0;31mTypeError\u001b[0m: 'tuple' object does not support item assignment"
       ]
      }
     ],
     "prompt_number": 92
    },
    {
     "cell_type": "markdown",
     "metadata": {},
     "source": [
      "* Tuples can be packed from and unpacked into individual elements. "
     ]
    },
    {
     "cell_type": "code",
     "collapsed": false,
     "input": [
      "pyTuple = \"rock\", \"paper\", \"scissors\" # pack the strings into a tuple named pyTuple\n",
      "print(pyTuple)"
     ],
     "language": "python",
     "metadata": {},
     "outputs": [
      {
       "output_type": "stream",
       "stream": "stdout",
       "text": [
        "('rock', 'paper', 'scissors')\n"
       ]
      }
     ],
     "prompt_number": 93
    },
    {
     "cell_type": "code",
     "collapsed": false,
     "input": [
      "str0,str1,str2 = pyTuple # unpack the tuple into strings named str0, str1, str2\n",
      "print \"str0 = \" + str0 + \".\"\n",
      "print \"str1 = \" + str1 + \".\"\n",
      "print \"str2 = \" + str2 + \".\""
     ],
     "language": "python",
     "metadata": {},
     "outputs": [
      {
       "output_type": "stream",
       "stream": "stdout",
       "text": [
        "str0 = rock.\n",
        "str1 = paper.\n",
        "str2 = scissors.\n"
       ]
      }
     ],
     "prompt_number": 95
    },
    {
     "cell_type": "markdown",
     "metadata": {},
     "source": [
      "* One can declare tuples of tuples."
     ]
    },
    {
     "cell_type": "code",
     "collapsed": false,
     "input": [
      "pyTuples = ((\"rock\",\"paper\",\"scissors\"),(\"ji\",\"gu\",\"pa\"))\n",
      "print \"pyTuples[0] = {0}.\".format(pyTuples[0]) # Print the first sub-tuple in pyTuples.\n",
      "print \"pyTuples[1] = {0}.\".format(pyTuples[1]) # Print the second sub-tuple in pyTuples."
     ],
     "language": "python",
     "metadata": {},
     "outputs": [
      {
       "output_type": "stream",
       "stream": "stdout",
       "text": [
        "pyTuples[0] = ('rock', 'paper', 'scissors').\n",
        "pyTuples[1] = ('ji', 'gu', 'pa').\n"
       ]
      }
     ],
     "prompt_number": 96
    },
    {
     "cell_type": "markdown",
     "metadata": {},
     "source": [
      "* One can declare a tuple of lists."
     ]
    },
    {
     "cell_type": "code",
     "collapsed": false,
     "input": [
      "pyNested = ([\"rock\",\"paper\",\"scissors\"],[\"ji\",\"gu\",\"pa\"])\n",
      "pyNested[0][2] = \"lizard\" # OK, list within the tuple is mutable\n",
      "print(pyNested[0]) # Print first list element of the tuple"
     ],
     "language": "python",
     "metadata": {},
     "outputs": [
      {
       "output_type": "stream",
       "stream": "stdout",
       "text": [
        "['rock', 'paper', 'lizard']\n"
       ]
      }
     ],
     "prompt_number": 97
    },
    {
     "cell_type": "markdown",
     "metadata": {},
     "source": [
      "* One can also declare a list of tuples."
     ]
    },
    {
     "cell_type": "code",
     "collapsed": false,
     "input": [
      "pyNested = [(\"rock\",\"paper\",\"scissors\"),(\"ji\",\"gu\",\"pa\")]\n",
      "pyNested[0][2] = \"lizard\" # Error, tuples is immutable* "
     ],
     "language": "python",
     "metadata": {},
     "outputs": []
    },
    {
     "cell_type": "heading",
     "level": 3,
     "metadata": {},
     "source": [
      "5.3. Dictionaries"
     ]
    },
    {
     "cell_type": "markdown",
     "metadata": {},
     "source": [
      "* A Python dictionary is an unordered set of key:value pairs that acts as an associate arrays. The keys are immutable and unique within one dictionary. In contrast to lists and tuples, dictionaries are indexed by keys. Note the use of curly braces in the declaration of the dictionary below."
     ]
    },
    {
     "cell_type": "code",
     "collapsed": false,
     "input": [
      "pyDict = {\"Canada\":\"CAN\",\"Argentina\":\"ARG\",\"Austria\":\"AUT\"}\n",
      "print(\"pyDict: {0}.\".format(pyDict))\n",
      "\n"
     ],
     "language": "python",
     "metadata": {},
     "outputs": [
      {
       "output_type": "stream",
       "stream": "stdout",
       "text": [
        "pyDict: {'Canada': 'CAN', 'Argentina': 'ARG', 'Austria': 'AUT'}.\n"
       ]
      }
     ],
     "prompt_number": 98
    },
    {
     "cell_type": "code",
     "collapsed": false,
     "input": [
      "print(\"pyDict['Argentina']: \" + pyDict['Argentina'] + \".\") # Print the value corresponding to key 'afghanistan'"
     ],
     "language": "python",
     "metadata": {},
     "outputs": [
      {
       "output_type": "stream",
       "stream": "stdout",
       "text": [
        "pyDict['Argentina']: ARG.\n"
       ]
      }
     ],
     "prompt_number": 99
    },
    {
     "cell_type": "code",
     "collapsed": false,
     "input": [
      "print(pyDict.keys())"
     ],
     "language": "python",
     "metadata": {},
     "outputs": [
      {
       "output_type": "stream",
       "stream": "stdout",
       "text": [
        "['Canada', 'Argentina', 'Austria']\n"
       ]
      }
     ],
     "prompt_number": 100
    },
    {
     "cell_type": "code",
     "collapsed": false,
     "input": [
      "print(pyDict.values()) # Return all the values in the dictionary as a list."
     ],
     "language": "python",
     "metadata": {},
     "outputs": [
      {
       "output_type": "stream",
       "stream": "stdout",
       "text": [
        "['CAN', 'ARG', 'AUT']\n"
       ]
      }
     ],
     "prompt_number": 101
    },
    {
     "cell_type": "code",
     "collapsed": false,
     "input": [
      "print(pyDict.items()) # Return key, value pairs from the dictionary as a list of tuples."
     ],
     "language": "python",
     "metadata": {},
     "outputs": [
      {
       "output_type": "stream",
       "stream": "stdout",
       "text": [
        "[('Canada', 'CAN'), ('Argentina', 'ARG'), ('Austria', 'AUT')]\n"
       ]
      }
     ],
     "prompt_number": 102
    },
    {
     "cell_type": "markdown",
     "metadata": {},
     "source": [
      "**Parsing hierarchical data structures involving Python dictionaries will be very useful when working with the JSON data format and APIs such as the Twitter API.**"
     ]
    },
    {
     "cell_type": "markdown",
     "metadata": {},
     "source": [
      "* Values in a dictionary can be any object including other dictionaries. "
     ]
    },
    {
     "cell_type": "code",
     "collapsed": false,
     "input": [
      "pyDicts = {\"Canada\":{\"Alpha-2\":\"CA\",\"Alpha-3\":\"CAN\",\"Numeric\":\"124\"},\n",
      "               \"Argentina\":{\"Alpha-2\":\"AR\",\"Alpha-3\":\"ARG\",\"Numeric\":\"032\"},\n",
      "                                         \"Austria\":{\"Alpha-2\":\"AT\",\"Alpha-3\":\"AUT\",\"Numeric\":\"040\"}}\n",
      "\n",
      "print(\"pyDicts['Canada'] = {0}.\".format(pyDicts['Canada']))\n"
     ],
     "language": "python",
     "metadata": {},
     "outputs": [
      {
       "output_type": "stream",
       "stream": "stdout",
       "text": [
        "pyDicts['Canada'] = {'Numeric': '124', 'Alpha-2': 'CA', 'Alpha-3': 'CAN'}.\n"
       ]
      }
     ],
     "prompt_number": 103
    },
    {
     "cell_type": "code",
     "collapsed": false,
     "input": [
      "print(\"pyDicts['Canada']['Alpha-2'] = {0}.\".format(pyDicts['Canada']['Alpha-2']))"
     ],
     "language": "python",
     "metadata": {},
     "outputs": [
      {
       "output_type": "stream",
       "stream": "stdout",
       "text": [
        "pyDicts['Canada']['Alpha-2'] = CA.\n"
       ]
      }
     ],
     "prompt_number": 104
    },
    {
     "cell_type": "markdown",
     "metadata": {},
     "source": [
      "* Values in a dictionary can also be lists."
     ]
    },
    {
     "cell_type": "code",
     "collapsed": false,
     "input": [
      "pyNested = {\"Canada\":[2011,2008,2006,2004,2000 ],\"Argentina\":[2013,2011,2009,2007,2005],\"Austria\":[2013,2008,2006,2002,1999]}\n",
      "print(\"pyNested['Canada'] = {0}\".format(pyNested['Canada']))"
     ],
     "language": "python",
     "metadata": {},
     "outputs": [
      {
       "output_type": "stream",
       "stream": "stdout",
       "text": [
        "pyNested['Canada'] = [2011, 2008, 2006, 2004, 2000]\n"
       ]
      }
     ],
     "prompt_number": 105
    },
    {
     "cell_type": "code",
     "collapsed": false,
     "input": [
      "print(\"pyNested['Austria'][4] = {0}.\".format(pyNested['Austria'][4]))"
     ],
     "language": "python",
     "metadata": {},
     "outputs": [
      {
       "output_type": "stream",
       "stream": "stdout",
       "text": [
        "pyNested['Austria'][4] = 1999.\n"
       ]
      }
     ],
     "prompt_number": 106
    },
    {
     "cell_type": "markdown",
     "metadata": {},
     "source": [
      "* Lastly, we can have lists of dictionaries"
     ]
    },
    {
     "cell_type": "code",
     "collapsed": false,
     "input": [
      "pyNested = [{\"year\":2011,\"countries\":[\"Canada\",\"Argentina\"]},\n",
      "            {\"year\":2008,\"countries\":[\"Canada\",\"Austria\"]},\n",
      "            {\"year\":2006,\"countries\":[\"Canada\",\"Austria\"]},\n",
      "            {\"year\":2013,\"countries\":[\"Argentina\",\"Austria\"]}]\n",
      "print(\"pyNested[0] = {0}\".format(pyNested[0]))\n"
     ],
     "language": "python",
     "metadata": {},
     "outputs": [
      {
       "output_type": "stream",
       "stream": "stdout",
       "text": [
        "pyNested[0] = {'countries': ['Canada', 'Argentina'], 'year': 2011}\n"
       ]
      }
     ],
     "prompt_number": 107
    },
    {
     "cell_type": "code",
     "collapsed": false,
     "input": [
      "print(\"pyNested[0]['year'] = {0}, pyNested[0]['countries'] = {1}.\".format(pyNested[0]['year'],pyNested[0]['countries']))"
     ],
     "language": "python",
     "metadata": {},
     "outputs": [
      {
       "output_type": "stream",
       "stream": "stdout",
       "text": [
        "pyNested[0]['year'] = 2011, pyNested[0]['countries'] = ['Canada', 'Argentina'].\n"
       ]
      }
     ],
     "prompt_number": 108
    },
    {
     "cell_type": "heading",
     "level": 2,
     "metadata": {},
     "source": [
      "6. Control Flow"
     ]
    },
    {
     "cell_type": "heading",
     "level": 3,
     "metadata": {},
     "source": [
      "6.1 <tt>if</tt> Statements"
     ]
    },
    {
     "cell_type": "markdown",
     "metadata": {},
     "source": [
      "* An if statement, coupled with zero or more elif statements can allow the execution of the script to be altered based on some condition. Here is an example."
     ]
    },
    {
     "cell_type": "code",
     "collapsed": false,
     "input": [
      "pyNested = [{\"year\":2011,\"countries\":[\"Canada\",\"Argentina\"]},\n",
      "            {\"year\":2008,\"countries\":[\"Canada\",\"Austria\"]},\n",
      "            {\"year\":2006,\"countries\":[\"Canada\",\"Austria\"]},\n",
      "            {\"year\":2013,\"countries\":[\"Argentina\",\"Austria\"]}]\n",
      "\n",
      "# Check if first dictionary element of pyNested corresponds to years 2006 or 2008\n",
      "if(pyNested[0][\"year\"] == 2008):\n",
      "    print(\"Countries corresponding to year 2008 are: {0}.\".format(pyNested[0][\"countries\"]))\n",
      "elif(pyNested[0][\"year\"] == 2011):\n",
      "    print(\"Countries corresponding to year 2011 are: {0}.\".format(pyNested[0][\"countries\"]))\n",
      "else:\n",
      "    print(\"The first element does not correspond to either 2008 or 2011.\")\n",
      "    \n"
     ],
     "language": "python",
     "metadata": {},
     "outputs": [
      {
       "output_type": "stream",
       "stream": "stdout",
       "text": [
        "Countries corresponding to year 2011 are: ['Canada', 'Argentina'].\n"
       ]
      }
     ],
     "prompt_number": 109
    },
    {
     "cell_type": "markdown",
     "metadata": {},
     "source": [
      "* Scripting languages, such as Python, make it easy to automate repetitive tasks. In this workshop, we'll use two of Python's syntactic constructs for iteration - the for loop and the while loop."
     ]
    },
    {
     "cell_type": "heading",
     "level": 3,
     "metadata": {},
     "source": [
      "6.2 <tt>for</tt> Statements"
     ]
    },
    {
     "cell_type": "markdown",
     "metadata": {},
     "source": [
      "* Given an iterable, such as a list, the for loop construct can iterate over each of its values as shown below."
     ]
    },
    {
     "cell_type": "code",
     "collapsed": false,
     "input": [
      "countryList = [\"Canada\", \"United States of America\", \"Mexico\"]\n",
      "for country in countryList: # Loop over countryList, set country to next element in list.\n",
      "    print(country)"
     ],
     "language": "python",
     "metadata": {},
     "outputs": [
      {
       "output_type": "stream",
       "stream": "stdout",
       "text": [
        "Canada\n",
        "United States of America\n",
        "Mexico\n"
       ]
      }
     ],
     "prompt_number": 110
    },
    {
     "cell_type": "code",
     "collapsed": false,
     "input": [
      "countryDict = {\"Canada\":\"124\",\"United States\":\"840\",\"Mexico\":\"484\"}\n",
      "print(\"Country\\t\\tISO 3166-1 Numeric Code\")\n",
      "for country,code in countryDict.items(): # Loop over all the key and value pairs in the dictionary\n",
      "    print(\"{0:12s}\\t\\t{1:12s}\".format(country,code))"
     ],
     "language": "python",
     "metadata": {},
     "outputs": [
      {
       "output_type": "stream",
       "stream": "stdout",
       "text": [
        "Country\t\tISO 3166-1 Numeric Code\n",
        "Canada      \t\t124         \n",
        "United States\t\t840         \n",
        "Mexico      \t\t484         \n"
       ]
      }
     ],
     "prompt_number": 111
    },
    {
     "cell_type": "heading",
     "level": 3,
     "metadata": {},
     "source": [
      "6.3 <tt>range()</tt> Function"
     ]
    },
    {
     "cell_type": "markdown",
     "metadata": {},
     "source": [
      "* Another common use of the <tt>for</tt> loop is to iterate over an index which takes specific values. The range() function generates integers within the range specified by its arguments."
     ]
    },
    {
     "cell_type": "code",
     "collapsed": false,
     "input": [
      "countryList = [\"Canada\", \"United States of America\", \"Mexico\"]\n",
      "for i in range(0,3): # Loop over values of i in the range 0 up to, but not including, 3\n",
      "    print countryList[i]"
     ],
     "language": "python",
     "metadata": {},
     "outputs": [
      {
       "output_type": "stream",
       "stream": "stdout",
       "text": [
        "Canada\n",
        "United States of America\n",
        "Mexico\n"
       ]
      }
     ],
     "prompt_number": 112
    },
    {
     "cell_type": "heading",
     "level": 3,
     "metadata": {},
     "source": [
      "6.4 while() Statement"
     ]
    },
    {
     "cell_type": "markdown",
     "metadata": {},
     "source": [
      "* Another syntactic construct used for iteration is the while loop. This is generally used in conjunction with the conditional and logical operators  which we saw earlier."
     ]
    },
    {
     "cell_type": "code",
     "collapsed": false,
     "input": [
      "countryList = [\"Canada\", \"United States of America\", \"Mexico\"]\n",
      "# iterate over countryList backwards, starting from the last element\n",
      "while(countryList):\n",
      "    print(countryList[-1])\n",
      "    countryList.pop()"
     ],
     "language": "python",
     "metadata": {},
     "outputs": [
      {
       "output_type": "stream",
       "stream": "stdout",
       "text": [
        "Mexico\n",
        "United States of America\n",
        "Canada\n"
       ]
      }
     ],
     "prompt_number": 115
    },
    {
     "cell_type": "code",
     "collapsed": false,
     "input": [
      "i = 0\n",
      "countryList = [\"Canada\", \"United States of America\", \"Mexico\"]\n",
      "while(i < len(countryList)):\n",
      "    print(\"Iteration variable i = {0}, Country = {1}.\".format(i,countryList[i]))\n",
      "    i += 1"
     ],
     "language": "python",
     "metadata": {},
     "outputs": [
      {
       "output_type": "stream",
       "stream": "stdout",
       "text": [
        "Iteration variable i = 0, Country = Canada.\n",
        "Iteration variable i = 1, Country = United States of America.\n",
        "Iteration variable i = 2, Country = Mexico.\n"
       ]
      }
     ],
     "prompt_number": 114
    },
    {
     "cell_type": "heading",
     "level": 3,
     "metadata": {},
     "source": [
      "6.5 <tt>break</tt> and <tt>continue</tt> Statements"
     ]
    },
    {
     "cell_type": "markdown",
     "metadata": {},
     "source": [
      "* Now, if some condition is evaluated within the for/while loop and based on that, we wish to exit the loop, we can use the break statement. Note that the break statement exits the innermost loop which contains it."
     ]
    },
    {
     "cell_type": "code",
     "collapsed": false,
     "input": [
      "countryList = [\"Canada\", \"United States of America\", \"Mexico\"]\n",
      "for country in countryList:\n",
      "    if(country == \"United States of America\"):\n",
      "        # if the country name matches, then break out of the for loop\n",
      "        break\n",
      "    else:\n",
      "        # do some processing\n",
      "        print(country)\n"
     ],
     "language": "python",
     "metadata": {},
     "outputs": [
      {
       "output_type": "stream",
       "stream": "stdout",
       "text": [
        "Canada\n"
       ]
      }
     ],
     "prompt_number": 116
    },
    {
     "cell_type": "markdown",
     "metadata": {},
     "source": [
      "* If, instead of exiting the loop, one merely wishes to skip that iteration, then use the continue statement as shown here."
     ]
    },
    {
     "cell_type": "code",
     "collapsed": false,
     "input": [
      "countryList = [\"Canada\", \"United States of America\", \"Mexico\"]\n",
      "for country in countryList:\n",
      "    if(country == \"United States of America\"):\n",
      "        # if the country name matches, then break out of the for loop\n",
      "        continue\n",
      "    else:\n",
      "        # do some processing\n",
      "        print(country)\n"
     ],
     "language": "python",
     "metadata": {},
     "outputs": [
      {
       "output_type": "stream",
       "stream": "stdout",
       "text": [
        "Canada\n",
        "Mexico\n"
       ]
      }
     ],
     "prompt_number": 117
    },
    {
     "cell_type": "heading",
     "level": 2,
     "metadata": {},
     "source": [
      "7. Python File I/O"
     ]
    },
    {
     "cell_type": "markdown",
     "metadata": {},
     "source": [
      "* This is a quick intro to reading and writing plain text files in Python. As we proceed through the workshop, we'll look at more sophisticated ways of reading/writing files, in non-English languages and using specialized Python modules to handle files in formats such as CSV, JSON."
     ]
    },
    {
     "cell_type": "heading",
     "level": 3,
     "metadata": {},
     "source": [
      "7.1 Writing to a File"
     ]
    },
    {
     "cell_type": "markdown",
     "metadata": {},
     "source": [
      "* In order to write to a file, the syntax is very similar. Open the file using the \"w\" mode instead of the \"r\" mode. Use the write() method of the file object as shown below. The syntax for the write() method is very similar to print(). Although, it does not automatically insert a newline at the end of the statement as does print()."
     ]
    },
    {
     "cell_type": "code",
     "collapsed": false,
     "input": [
      "filename = \"tmp.txt\"\n",
      "fout = open(filename,\"w\") # The 'r' option indicates that the file is being opened to be read\n",
      "\n",
      "for i in range(0,5): # Read in each line from the file\n",
      "    # Do some processing\n",
      "    fout.write(\"i = {0}.\\n\".format(i))\n",
      "    \n",
      "fout.close() # Once the file has been read, close the file"
     ],
     "language": "python",
     "metadata": {},
     "outputs": [],
     "prompt_number": 118
    },
    {
     "cell_type": "markdown",
     "metadata": {},
     "source": [
      "* Alternative syntax for writing to file using 'with open' is shown below."
     ]
    },
    {
     "cell_type": "code",
     "collapsed": false,
     "input": [
      "filename = \"tmp.txt\"\n",
      "with open(filename,\"w\") as fout:\n",
      "    for i in range(0,5):\n",
      "        fout.write(\"i = {0}.\\n\".format(i))\n",
      "\n",
      "fout.close()"
     ],
     "language": "python",
     "metadata": {},
     "outputs": [],
     "prompt_number": 119
    },
    {
     "cell_type": "heading",
     "level": 3,
     "metadata": {},
     "source": [
      "7.2 Reading from a file"
     ]
    },
    {
     "cell_type": "markdown",
     "metadata": {},
     "source": [
      "* To open a file for reading each of its line use the open() function. Make sure that such a file does exist. Once the file has been read, close it using the close() method of the file object - this will free up system resources being used up by the open file."
     ]
    },
    {
     "cell_type": "code",
     "collapsed": false,
     "input": [
      "filename = \"tmp.txt\"\n",
      "fin = open(filename,\"r\") # The 'r' option indicates that the file is being opened to be read\n",
      "\n",
      "for line in fin: # Read in each line from the file\n",
      "    # Do some processing\n",
      "    print(line)\n",
      "\n",
      "fin.close() # Once the file has been read, close the file"
     ],
     "language": "python",
     "metadata": {},
     "outputs": [
      {
       "output_type": "stream",
       "stream": "stdout",
       "text": [
        "i = 0.\n",
        "\n",
        "i = 1.\n",
        "\n",
        "i = 2.\n",
        "\n",
        "i = 3.\n",
        "\n",
        "i = 4.\n",
        "\n"
       ]
      }
     ],
     "prompt_number": 121
    },
    {
     "cell_type": "markdown",
     "metadata": {},
     "source": [
      "* The code below demonstrates another way to open a file and read each line. With this syntax, the file is automatically closed after the <tt >with</tt> block. "
     ]
    },
    {
     "cell_type": "code",
     "collapsed": false,
     "input": [
      "filename = \"tmp.txt\"\n",
      "with open(filename,\"r\") as fin:\n",
      "    for line in fin:\n",
      "        # Do some processing\n",
      "        print(line)"
     ],
     "language": "python",
     "metadata": {},
     "outputs": [
      {
       "output_type": "stream",
       "stream": "stdout",
       "text": [
        "i = 0.\n",
        "\n",
        "i = 1.\n",
        "\n",
        "i = 2.\n",
        "\n",
        "i = 3.\n",
        "\n",
        "i = 4.\n",
        "\n"
       ]
      }
     ],
     "prompt_number": 122
    },
    {
     "cell_type": "markdown",
     "metadata": {},
     "source": [
      "* An input file can also be read in as one string by using the read() method."
     ]
    },
    {
     "cell_type": "heading",
     "level": 3,
     "metadata": {},
     "source": [
      "7.3. The <tt>csv</tt> module"
     ]
    },
    {
     "cell_type": "markdown",
     "metadata": {},
     "source": [
      "* Python's <tt>csv</tt> module provides convenient functionality for reading and writing csv files similar to that available in R. The csv files can then be imported in other statistical packages such as R and Excel."
     ]
    },
    {
     "cell_type": "markdown",
     "metadata": {},
     "source": [
      "* Here is a short example of using the csv module to write consecutive rows in to a comma-separated file. The delimiter can be chosen to be an arbitrary string."
     ]
    },
    {
     "cell_type": "code",
     "collapsed": false,
     "input": [
      "import csv\n",
      "\n",
      "with open(\"game.csv\",\"wb\") as csvfile:\n",
      "    csvwriter = csv.writer(csvfile,delimiter=',')\n",
      "    csvwriter.writerow([\"rock\",\"paper\",\"scissor\"])\n",
      "    csvwriter.writerow([\"ji\",\"gu\",\"pa\"])\n",
      "    csvwriter.writerow([\"rock\",\"paper\",\"scissor\",\"lizard\",\"Spock\"])"
     ],
     "language": "python",
     "metadata": {},
     "outputs": []
    },
    {
     "cell_type": "code",
     "collapsed": false,
     "input": [
      "cat game.csv"
     ],
     "language": "python",
     "metadata": {},
     "outputs": []
    },
    {
     "cell_type": "markdown",
     "metadata": {},
     "source": [
      "* And this is an example of reading the games.csv file. Each row of the csv file is read in as a list."
     ]
    },
    {
     "cell_type": "code",
     "collapsed": false,
     "input": [
      "import csv\n",
      "\n",
      "with open(\"game.csv\",\"r\") as csvfile:\n",
      "    csvreader = csv.reader(csvfile,delimiter=\",\")\n",
      "    for row in csvreader:\n",
      "        print(row)"
     ],
     "language": "python",
     "metadata": {},
     "outputs": []
    }
   ],
   "metadata": {}
  }
 ]
}