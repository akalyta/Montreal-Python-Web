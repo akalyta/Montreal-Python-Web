{
 "metadata": {
  "name": ""
 },
 "nbformat": 3,
 "nbformat_minor": 0,
 "worksheets": [
  {
   "cells": [
    {
     "cell_type": "heading",
     "level": 1,
     "metadata": {
      "slideshow": {
       "slide_type": "slide"
      }
     },
     "source": [
      "Getting Started with Web Scraping"
     ]
    },
    {
     "cell_type": "markdown",
     "metadata": {
      "slideshow": {
       "slide_type": "-"
      }
     },
     "source": [
      "**Workshop on Web Scraping and Text Processing with Python**"
     ]
    },
    {
     "cell_type": "markdown",
     "metadata": {},
     "source": [
      "**by Radhika Saksena, Princeton University, saksena@princeton.edu, radhika.saksena@gmail.com**\n",
      "\n"
     ]
    },
    {
     "cell_type": "markdown",
     "metadata": {},
     "source": [
      "*Disclaimer: The code examples presented in this and subsequent handouts are for educational purposes only. Please seek advice from a legal expert about the legal implications of using this code for web scraping.\n",
      "*"
     ]
    },
    {
     "cell_type": "heading",
     "level": 2,
     "metadata": {
      "slideshow": {
       "slide_type": "slide"
      }
     },
     "source": [
      "1. Automating web downloads with Python"
     ]
    },
    {
     "cell_type": "heading",
     "level": 3,
     "metadata": {
      "slideshow": {
       "slide_type": "-"
      }
     },
     "source": [
      "1.1 Python's ``urllib2`` & ``urllib`` modules "
     ]
    },
    {
     "cell_type": "heading",
     "level": 4,
     "metadata": {},
     "source": [
      "Example: Downloading GDELT datasets"
     ]
    },
    {
     "cell_type": "markdown",
     "metadata": {
      "slideshow": {
       "slide_type": "-"
      }
     },
     "source": [
      "Our first example demonstrates Python's ``urllib2`` module. The ``urllib2`` module provides various methods to download data and interact with WWW content and protocols - all from within a Python script. ``urllib2`` can be used to access files in different formats, such as HTML, XML, JSON, *.txt, PDF, etc., from the web. We will be using this module quite a lot in this workshop.<br/>\n"
     ]
    },
    {
     "cell_type": "markdown",
     "metadata": {
      "slideshow": {
       "slide_type": "slide"
      }
     },
     "source": [
      "*  The Global Data on Events, Location and Tone (GDELT) is a big data resource comprising of hundreds of millions of global events that have been geotagged and coded according to hundreds of event categories of conflict and co-operation.\n",
      "\n",
      "* Here is an example where ``urllib2`` is used to download the GDELT dataset published on May 23, 2014, available as a compressed archive in CSV format (20140523.export.CSV.zip), from the GDELT website at http://data.gdeltproject.org/events/index.html."
     ]
    },
    {
     "cell_type": "code",
     "collapsed": false,
     "input": [
      "import urllib2\n",
      "\n",
      "resp = urllib2.urlopen(\"http://data.gdeltproject.org/events/20140523.export.CSV.zip\")\n",
      "\n",
      "with open(\"20140523.export.CSV.zip\",\"wb\") as fout:                                          \n",
      "        fout.write(resp.read()) "
     ],
     "language": "python",
     "metadata": {
      "slideshow": {
       "slide_type": "fragment"
      }
     },
     "outputs": [],
     "prompt_number": 1
    },
    {
     "cell_type": "markdown",
     "metadata": {
      "slideshow": {
       "slide_type": "slide"
      }
     },
     "source": [
      "* Instead of a single file, let's get a sequence of archived+compressed files from the GDELT website and store them locally. Specifically, the code in script ``getGDELT.py`` downloads all the daily updated files released in May 2014 (http://gdeltproject.org/data.html#dailyupdates). Note the ``wb`` mode when opening the destination file. Also, note the use of the Python ``for`` loop to construct URLs for a sequence of files and retrieve them."
     ]
    },
    {
     "cell_type": "code",
     "collapsed": false,
     "input": [
      "%load getGDELT.py"
     ],
     "language": "python",
     "metadata": {},
     "outputs": [],
     "prompt_number": 1
    },
    {
     "cell_type": "code",
     "collapsed": false,
     "input": [
      "# Copyright 2014, Radhika S. Saksena (radhika dot saksena at gmail dot com)\n",
      "# Licensed under the Apache License, Version 2.0\n",
      "# http://www.apache.org/licenses/LICENSE-2.0\n",
      "\n",
      "# Web scraping and text processing with Python workshop\n",
      "\n",
      "import urllib2\n",
      "import sys\n",
      "import os\n",
      "import time\n",
      "\n",
      "'''Download the full resolution GDELT event dataset for March 2014.'''\n",
      "\n",
      "month = 3\n",
      "\n",
      "# make a gdelt/ directory if it doesn't already exist\n",
      "if not os.path.exists(os.getcwd() + \"/gdelt\"):\n",
      "    os.mkdir(os.getcwd() + \"/gdelt\")\n",
      "\n",
      "# try downloading the files comprising events data for March 2014\n",
      "#for day in range(1,31):\n",
      "for day in range(1,7):\n",
      "\n",
      "    # construct the URL from which we retrieve the (compressed) events files\n",
      "    fileName = \"2014%02d%02d.export.CSV.zip\" % (month,day)\n",
      "    fileURL = \"http://data.gdeltproject.org/events/%s\"  % (fileName)\n",
      "    localFile = os.getcwd() + \"/gdelt/\" + fileName\n",
      "\n",
      "    print(\"Downloading file \" + fileURL + \" ...\")\n",
      "\n",
      "    # use the urllib2 module to fetch the events data file\n",
      "    resp = urllib2.urlopen(fileURL)\n",
      "\n",
      "    # write the retrieved events file to a local file\n",
      "    with open(localFile,\"wb\") as fout:\n",
      "        fout.write(resp.read())\n",
      "\n",
      "    print(\"Downloaded file %s.\" % fileURL)\n",
      "\n",
      "    # inject delay between consecutive fetches\n",
      "    time.sleep(5)\n"
     ],
     "language": "python",
     "metadata": {},
     "outputs": [
      {
       "output_type": "stream",
       "stream": "stdout",
       "text": [
        "Downloading file http://data.gdeltproject.org/events/20140301.export.CSV.zip ...\n",
        "Downloaded file http://data.gdeltproject.org/events/20140301.export.CSV.zip."
       ]
      },
      {
       "output_type": "stream",
       "stream": "stdout",
       "text": [
        "\n",
        "Downloading file http://data.gdeltproject.org/events/20140302.export.CSV.zip ..."
       ]
      },
      {
       "output_type": "stream",
       "stream": "stdout",
       "text": [
        "\n",
        "Downloaded file http://data.gdeltproject.org/events/20140302.export.CSV.zip."
       ]
      },
      {
       "output_type": "stream",
       "stream": "stdout",
       "text": [
        "\n",
        "Downloading file http://data.gdeltproject.org/events/20140303.export.CSV.zip ..."
       ]
      },
      {
       "output_type": "stream",
       "stream": "stdout",
       "text": [
        "\n",
        "Downloaded file http://data.gdeltproject.org/events/20140303.export.CSV.zip."
       ]
      },
      {
       "output_type": "stream",
       "stream": "stdout",
       "text": [
        "\n",
        "Downloading file http://data.gdeltproject.org/events/20140304.export.CSV.zip ..."
       ]
      },
      {
       "output_type": "stream",
       "stream": "stdout",
       "text": [
        "\n",
        "Downloaded file http://data.gdeltproject.org/events/20140304.export.CSV.zip."
       ]
      },
      {
       "output_type": "stream",
       "stream": "stdout",
       "text": [
        "\n",
        "Downloading file http://data.gdeltproject.org/events/20140305.export.CSV.zip ..."
       ]
      },
      {
       "output_type": "stream",
       "stream": "stdout",
       "text": [
        "\n",
        "Downloaded file http://data.gdeltproject.org/events/20140305.export.CSV.zip."
       ]
      },
      {
       "output_type": "stream",
       "stream": "stdout",
       "text": [
        "\n",
        "Downloading file http://data.gdeltproject.org/events/20140306.export.CSV.zip ..."
       ]
      },
      {
       "output_type": "stream",
       "stream": "stdout",
       "text": [
        "\n",
        "Downloaded file http://data.gdeltproject.org/events/20140306.export.CSV.zip."
       ]
      },
      {
       "output_type": "stream",
       "stream": "stdout",
       "text": [
        "\n"
       ]
      }
     ],
     "prompt_number": 2
    },
    {
     "cell_type": "markdown",
     "metadata": {
      "slideshow": {
       "slide_type": "slide"
      }
     },
     "source": [
      "* When downloading binary files, urllib module's urlretrieve() method can be handy too."
     ]
    },
    {
     "cell_type": "code",
     "collapsed": false,
     "input": [
      "import urllib\n",
      "\n",
      "urllib.urlretrieve(\"http://data.gdeltproject.org/events/20140519.export.CSV.zip\",\"20140519.CSV.zip\")"
     ],
     "language": "python",
     "metadata": {},
     "outputs": []
    },
    {
     "cell_type": "heading",
     "level": 3,
     "metadata": {
      "slideshow": {
       "slide_type": "slide"
      }
     },
     "source": [
      "1.2 Automating OS commands from a Python script"
     ]
    },
    {
     "cell_type": "heading",
     "level": 4,
     "metadata": {},
     "source": [
      "Example: Unzipping downloaded GDELT datasets"
     ]
    },
    {
     "cell_type": "markdown",
     "metadata": {
      "slideshow": {
       "slide_type": "-"
      }
     },
     "source": [
      "* Python provides some tools to execute operating system commands from within the Python script. One way of doing this is using the ``os`` module's ``system()`` method. For example, the code snippet below shows how to unzip a file `gdelt/20140519.export.csv.zip`. Note that you should have a utility called ``unzip`` on your machine or replace ``unzip`` in the code below with what's available on your system. For example, Linux users can use ``tar -zxvf`` instead of ``unzip``. "
     ]
    },
    {
     "cell_type": "code",
     "collapsed": false,
     "input": [
      "import os\n",
      "filename = \"gdelt/20140519.export.CSV.zip\"\n",
      "os.system(\"unzip \" + filename)"
     ],
     "language": "python",
     "metadata": {},
     "outputs": []
    },
    {
     "cell_type": "markdown",
     "metadata": {
      "slideshow": {
       "slide_type": "slide"
      }
     },
     "source": [
      "In the script ``getGDELT2.py`` below, the files are downloaded *and* then unzipped into the corresponding CSV file from within the Python script using Python's os.system() function. "
     ]
    },
    {
     "cell_type": "code",
     "collapsed": false,
     "input": [
      "%load getGDELT2.py"
     ],
     "language": "python",
     "metadata": {},
     "outputs": [],
     "prompt_number": 3
    },
    {
     "cell_type": "code",
     "collapsed": false,
     "input": [
      "# Copyright 2014, Radhika S. Saksena (radhika dot saksena at gmail dot com)\n",
      "# Licensed under the Apache License, Version 2.0\n",
      "# http://www.apache.org/licenses/LICENSE-2.0\n",
      "\n",
      "# Web scraping and text processing with Python workshop\n",
      "\n",
      "import urllib2\n",
      "import sys\n",
      "import os\n",
      "import time\n",
      "\n",
      "'''Download and uncompress the full resolution GDELT event dataset for March 2014.'''\n",
      "\n",
      "month = 3\n",
      "\n",
      "# make a gdelt/ directory if it doesn't already exist\n",
      "if not os.path.exists(os.getcwd() + \"/gdelt\"):\n",
      "    os.mkdir(os.getcwd() + \"/gdelt\")\n",
      "\n",
      "# try downloading the files comprising events data for March 2014\n",
      "#for day in range(1,31):\n",
      "for day in range(1,7):\n",
      "\n",
      "    try:\n",
      "        # construct the URL from which we retrieve the (compressed) events file \n",
      "        fileName = \"2014%02d%02d.export.CSV.zip\" % (month,day)\n",
      "        fileURL = \"http://data.gdeltproject.org/events/%s\"  % (fileName)\n",
      "        localFile = os.getcwd() + \"/gdelt/\" + fileName\n",
      "\n",
      "        print(\"Downloading file \" + fileURL + \" ...\")\n",
      "\n",
      "        # use the urllib2 module to fetch the events data file\n",
      "        resp = urllib2.urlopen(fileURL)\n",
      "\n",
      "        # write the retrieved events file to a local file\n",
      "        with open(localFile,\"wb\") as fout:\n",
      "            fout.write(resp.read())\n",
      "\n",
      "        print(\"Downloaded file %s.\" % fileURL)\n",
      "\n",
      "        # uncompress the downloaded events file\n",
      "        os.chdir(\"gdelt\")\n",
      "        os.system(\"unzip {0}\".format(localFile))\n",
      "        os.chdir(\"..\")\n",
      "    except:\n",
      "        pass\n",
      "\n",
      "    # inject delay between consecutive fetches\n",
      "    time.sleep(5)\n"
     ],
     "language": "python",
     "metadata": {},
     "outputs": [
      {
       "output_type": "stream",
       "stream": "stdout",
       "text": [
        "Downloading file http://data.gdeltproject.org/events/20140301.export.CSV.zip ...\n",
        "Downloaded file http://data.gdeltproject.org/events/20140301.export.CSV.zip."
       ]
      },
      {
       "output_type": "stream",
       "stream": "stdout",
       "text": [
        "\n",
        "Downloading file http://data.gdeltproject.org/events/20140302.export.CSV.zip ..."
       ]
      },
      {
       "output_type": "stream",
       "stream": "stdout",
       "text": [
        "\n",
        "Downloaded file http://data.gdeltproject.org/events/20140302.export.CSV.zip."
       ]
      },
      {
       "output_type": "stream",
       "stream": "stdout",
       "text": [
        "\n",
        "Downloading file http://data.gdeltproject.org/events/20140303.export.CSV.zip ..."
       ]
      },
      {
       "output_type": "stream",
       "stream": "stdout",
       "text": [
        "\n",
        "Downloaded file http://data.gdeltproject.org/events/20140303.export.CSV.zip."
       ]
      },
      {
       "output_type": "stream",
       "stream": "stdout",
       "text": [
        "\n",
        "Downloading file http://data.gdeltproject.org/events/20140304.export.CSV.zip ..."
       ]
      },
      {
       "output_type": "stream",
       "stream": "stdout",
       "text": [
        "\n",
        "Downloaded file http://data.gdeltproject.org/events/20140304.export.CSV.zip."
       ]
      },
      {
       "output_type": "stream",
       "stream": "stdout",
       "text": [
        "\n",
        "Downloading file http://data.gdeltproject.org/events/20140305.export.CSV.zip ..."
       ]
      },
      {
       "output_type": "stream",
       "stream": "stdout",
       "text": [
        "\n",
        "Downloaded file http://data.gdeltproject.org/events/20140305.export.CSV.zip."
       ]
      },
      {
       "output_type": "stream",
       "stream": "stdout",
       "text": [
        "\n",
        "Downloading file http://data.gdeltproject.org/events/20140306.export.CSV.zip ..."
       ]
      },
      {
       "output_type": "stream",
       "stream": "stdout",
       "text": [
        "\n",
        "Downloaded file http://data.gdeltproject.org/events/20140306.export.CSV.zip."
       ]
      },
      {
       "output_type": "stream",
       "stream": "stdout",
       "text": [
        "\n"
       ]
      }
     ],
     "prompt_number": 5
    },
    {
     "cell_type": "markdown",
     "metadata": {},
     "source": [
      "* To check that things have progressed correctly, run the <tt>file</tt> command (on Linux/Mac OS X) to determine the type of files that have been downloaded and uncompressed."
     ]
    },
    {
     "cell_type": "code",
     "collapsed": false,
     "input": [
      "!file gdelt/20140306.export.CSV"
     ],
     "language": "python",
     "metadata": {},
     "outputs": [
      {
       "output_type": "stream",
       "stream": "stdout",
       "text": [
        "gdelt/20140306.export.CSV: UTF-8 Unicode English text, with very long lines\r\n"
       ]
      }
     ],
     "prompt_number": 6
    },
    {
     "cell_type": "heading",
     "level": 3,
     "metadata": {
      "slideshow": {
       "slide_type": "slide"
      }
     },
     "source": [
      "1.3 Visualizing scraped data with Python (or R)"
     ]
    },
    {
     "cell_type": "markdown",
     "metadata": {},
     "source": [
      "The codebook for these GDELT datasets is available at http://data.gdeltproject.org/documentation/GDELT-Data_Format_Codebook.pdf and a text file containing the column header labels is available at http://gdeltproject.org/data/lookups/CSV.header.historical.txt."
     ]
    },
    {
     "cell_type": "heading",
     "level": 4,
     "metadata": {},
     "source": [
      "Example: News Frequency Distribution"
     ]
    },
    {
     "cell_type": "markdown",
     "metadata": {},
     "source": [
      "* The CSV events data(s) file can be loaded in to a dataframe for further data processing using Python's ``pandas`` module. In the code below, ``plotGDELTHist.py``, we'll plot the frequencies of country occurrences in the events database for the month of March 2014. We'll also use a cut-off to visualize only those countries whose frequency of occurrence exceeds a minimum threshold.\n",
      "\n",
      "\n",
      "* Please note that this example is an initial rough analysis. More pre-processing and analytical machinery might need to be employed to extract substantive insights."
     ]
    },
    {
     "cell_type": "code",
     "collapsed": false,
     "input": [
      "% matplotlib inline\n",
      "% load plotGDELTHist.py"
     ],
     "language": "python",
     "metadata": {
      "slideshow": {
       "slide_type": "slide"
      }
     },
     "outputs": [],
     "prompt_number": 7
    },
    {
     "cell_type": "code",
     "collapsed": false,
     "input": [
      "# Copyright 2014, Radhika S. Saksena (radhika dot saksena at gmail dot com)\n",
      "# Licensed under the Apache License, Version 2.0\n",
      "# http://www.apache.org/licenses/LICENSE-2.0\n",
      "\n",
      "# Web scraping and text processing with Python workshop\n",
      "\n",
      "import sys\n",
      "import os\n",
      "import time\n",
      "import warnings\n",
      "import pandas as pd\n",
      "import numpy as np\n",
      "import matplotlib.pyplot as plt\n",
      "import urllib2\n",
      "\n",
      "warnings.filterwarnings('ignore')\n",
      "\n",
      "'''Bar chart of event counts per country March 2014.'''\n",
      "\n",
      "month = 3 # set month to March\n",
      "\n",
      "# exit if gdelt/ directory if it doesn't already exist\n",
      "if not os.path.exists(os.getcwd() + \"/gdelt\"):\n",
      "    raise \"Data directory does not exist.\"\n",
      "    sys.exit(-1)\n",
      "\n",
      "# get the column names for the GDELT dataset\n",
      "headerURL = \"http://gdeltproject.org/data/lookups/CSV.header.historical.txt\"\n",
      "headerStr = urllib2.urlopen(headerURL).read()\n",
      "colNames = headerStr.split(\"\\t\")\n",
      "#colNames = open(\"CSV.header.historical.txt\",\"r\").readline().split(\"\\t\")\n",
      "colNames.append(\"SOURCEURL\")\n",
      "\n",
      "# initialize frequency table\n",
      "allCnt = 0\n",
      "\n",
      "#for day in range(1,31):\n",
      "for day in range(1,7):\n",
      "    # construct the URL from which we will try to retrieve the record\n",
      "    fileName = \"2014%02d%02d.export.CSV\" % (month,day)\n",
      "    localFile = os.getcwd() + \"/gdelt/\" + fileName\n",
      "\n",
      "    # check if the dataset for this date exists\n",
      "    if(not os.path.exists(localFile)):\n",
      "        continue\n",
      "\n",
      "    frame = pd.read_csv(localFile,sep=\"\\t\",names=colNames)\n",
      "\n",
      "    # assign the event to a country if it's either one of the actors\n",
      "    actor1Cnt = frame['Actor1CountryCode'].value_counts()\n",
      "    actor2Cnt= frame['Actor2CountryCode'].value_counts()\n",
      "\n",
      "    allCnt += actor1Cnt + actor2Cnt\n",
      "\n",
      "# convert the frequency table in to a form suitable for plotting\n",
      "allCnt = allCnt.order(ascending=True)\n",
      "\n",
      "maxCountry,maxCount = max(allCnt.iteritems(),key=lambda x: x[1])\n",
      "print(\"Maximum frequency encountered: \" + str(maxCount))\n",
      "print(\"Maximum frequency encountered for country: \" + maxCountry)\n",
      "\n",
      "\n",
      "# subset the frequency table to save only high frequency entries\n",
      "allCnt = allCnt[allCnt > 0.05*maxCount]\n",
      "\n",
      "# take the log of the frequencies\n",
      "allCnt = np.log(allCnt)\n",
      "\n",
      "\n",
      "\n",
      "# now plot the frequency table as a bar graph\n",
      "plt.figure(figsize=(8,8))\n",
      "pos = np.arange(len(allCnt.values))\n",
      "\n",
      "plt.title('Frequency distribution of countries in the news database.')\n",
      "plt.barh(pos,allCnt.values,color=[\"#006633\"]*len(pos))\n",
      "\n",
      "annotations = [\"{0:4.2e}\".format(np.exp(v)) for v in allCnt.values]\n",
      "for p,c,val in zip(pos,annotations,allCnt.values):\n",
      "    plt.annotate(str(c), xy=(val,p+.5),va='center')\n",
      "\n",
      "ticks = plt.yticks(pos + .5,allCnt.keys())\n",
      "\n",
      "plt.grid(axis='x',color='white',linestyle='-')\n",
      "\n",
      "plt.show()\n"
     ],
     "language": "python",
     "metadata": {},
     "outputs": [
      {
       "output_type": "stream",
       "stream": "stdout",
       "text": [
        "Maximum frequency encountered: 230700.0\n",
        "Maximum frequency encountered for country: USA\n"
       ]
      },
      {
       "metadata": {},
       "output_type": "display_data",
       "png": "[encoded data removed]",
       "text": [
        "<matplotlib.figure.Figure at 0x109e34cd0>"
       ]
      }
     ],
     "prompt_number": 8
    },
    {
     "cell_type": "heading",
     "level": 2,
     "metadata": {
      "slideshow": {
       "slide_type": "slide"
      }
     },
     "source": [
      "2. Handling (HTTP and other) Exceptions Gracefully "
     ]
    },
    {
     "cell_type": "heading",
     "level": 3,
     "metadata": {},
     "source": [
      "2.1 HTTP Errors"
     ]
    },
    {
     "cell_type": "heading",
     "level": 4,
     "metadata": {},
     "source": [
      "Example: U.S. Congressional Record"
     ]
    },
    {
     "cell_type": "markdown",
     "metadata": {
      "slideshow": {
       "slide_type": "-"
      }
     },
     "source": [
      "* Now let's download the congressional record from the US Congress's open data website, \n",
      "http://beta.congress.gov/congressional-record/browse-by-date/ . The task here is to use ``urllib2`` to download the daily record, for the month of May 2014. The downloaded PDF files are to be written to a local directory named archive/."
     ]
    },
    {
     "cell_type": "markdown",
     "metadata": {
      "slideshow": {
       "slide_type": "slide"
      }
     },
     "source": [
      "* The code in ``getCongressBreaks.py`` attempts to create the URLs of the Congressional record documents for May 2014. (In general, it is a good idea to first open the website in a browser, inspect the HTML source and devise a strategy for constructing the URLs that need to be fetched.) Then this code proceeds to download each of the URLs using a ``for`` loop and the ``urllib2`` module."
     ]
    },
    {
     "cell_type": "code",
     "collapsed": false,
     "input": [
      "%load getCongressBreaks.py"
     ],
     "language": "python",
     "metadata": {},
     "outputs": [],
     "prompt_number": 9
    },
    {
     "cell_type": "code",
     "collapsed": false,
     "input": [
      "# Copyright 2014, Radhika S. Saksena (radhika dot saksena at gmail dot com)\n",
      "# Licensed under the Apache License, Version 2.0\n",
      "# http://www.apache.org/licenses/LICENSE-2.0\n",
      "\n",
      "# Web scraping and text processing with Python workshop\n",
      "\n",
      "import urllib2\n",
      "import sys\n",
      "import os\n",
      "import time\n",
      "\n",
      "'''Download \"Entire Issue\" of the Congressional Record for the period May 1 - 31 2014.'''\n",
      "\n",
      "month = 5 # set month to May\n",
      "\n",
      "# make an archive/ directory if it doesn't already exist\n",
      "if not os.path.exists(os.getcwd() + \"/archive\"):\n",
      "    os.mkdir(os.getcwd() + \"/archive\")\n",
      "\n",
      "# try downloading the Congressional Record for May 2014\n",
      "#for day in range(1,31):\n",
      "for day in range(1,6):\n",
      "\n",
      "    # construct the URL from which we will try to retrieve the record\n",
      "    fileName = \"CREC-2014-%02d-%02d.pdf\" % (month,day)\n",
      "    fileURL = \"http://beta.congress.gov/crec/2014/%02d/%02d/%s\"  % (month,day,fileName)\n",
      "    localFile = os.getcwd() + \"/archive/\" + fileName\n",
      "\n",
      "    # use the urllib2 module to fetch the record\n",
      "    resp = urllib2.urlopen(fileURL)\n",
      "\n",
      "    # write the record (PDF file) to a local file\n",
      "    with open(localFile,\"wb\") as fout:\n",
      "        fout.write(resp.read())\n",
      "\n",
      "    print(\"Downloaded file %s.\" % fileURL)\n",
      "\n",
      "    # inject interval between consecutive requests\n",
      "    time.sleep(5)\n"
     ],
     "language": "python",
     "metadata": {},
     "outputs": [
      {
       "output_type": "stream",
       "stream": "stdout",
       "text": [
        "Downloaded file http://beta.congress.gov/crec/2014/05/01/CREC-2014-05-01.pdf.\n",
        "Downloaded file http://beta.congress.gov/crec/2014/05/02/CREC-2014-05-02.pdf."
       ]
      },
      {
       "ename": "HTTPError",
       "evalue": "HTTP Error 404: Not Found",
       "output_type": "pyerr",
       "traceback": [
        "\u001b[0;31m---------------------------------------------------------------------------\u001b[0m\n\u001b[0;31mHTTPError\u001b[0m                                 Traceback (most recent call last)",
        "\u001b[0;32m<ipython-input-10-2715a3604285>\u001b[0m in \u001b[0;36m<module>\u001b[0;34m()\u001b[0m\n\u001b[1;32m     28\u001b[0m \u001b[0;34m\u001b[0m\u001b[0m\n\u001b[1;32m     29\u001b[0m     \u001b[0;31m# use the urllib2 module to fetch the record\u001b[0m\u001b[0;34m\u001b[0m\u001b[0;34m\u001b[0m\u001b[0m\n\u001b[0;32m---> 30\u001b[0;31m     \u001b[0mresp\u001b[0m \u001b[0;34m=\u001b[0m \u001b[0murllib2\u001b[0m\u001b[0;34m.\u001b[0m\u001b[0murlopen\u001b[0m\u001b[0;34m(\u001b[0m\u001b[0mfileURL\u001b[0m\u001b[0;34m)\u001b[0m\u001b[0;34m\u001b[0m\u001b[0m\n\u001b[0m\u001b[1;32m     31\u001b[0m \u001b[0;34m\u001b[0m\u001b[0m\n\u001b[1;32m     32\u001b[0m     \u001b[0;31m# write the record (PDF file) to a local file\u001b[0m\u001b[0;34m\u001b[0m\u001b[0;34m\u001b[0m\u001b[0m\n",
        "\u001b[0;32m//anaconda/python.app/Contents/lib/python2.7/urllib2.pyc\u001b[0m in \u001b[0;36murlopen\u001b[0;34m(url, data, timeout)\u001b[0m\n\u001b[1;32m    125\u001b[0m     \u001b[0;32mif\u001b[0m \u001b[0m_opener\u001b[0m \u001b[0;32mis\u001b[0m \u001b[0mNone\u001b[0m\u001b[0;34m:\u001b[0m\u001b[0;34m\u001b[0m\u001b[0m\n\u001b[1;32m    126\u001b[0m         \u001b[0m_opener\u001b[0m \u001b[0;34m=\u001b[0m \u001b[0mbuild_opener\u001b[0m\u001b[0;34m(\u001b[0m\u001b[0;34m)\u001b[0m\u001b[0;34m\u001b[0m\u001b[0m\n\u001b[0;32m--> 127\u001b[0;31m     \u001b[0;32mreturn\u001b[0m \u001b[0m_opener\u001b[0m\u001b[0;34m.\u001b[0m\u001b[0mopen\u001b[0m\u001b[0;34m(\u001b[0m\u001b[0murl\u001b[0m\u001b[0;34m,\u001b[0m \u001b[0mdata\u001b[0m\u001b[0;34m,\u001b[0m \u001b[0mtimeout\u001b[0m\u001b[0;34m)\u001b[0m\u001b[0;34m\u001b[0m\u001b[0m\n\u001b[0m\u001b[1;32m    128\u001b[0m \u001b[0;34m\u001b[0m\u001b[0m\n\u001b[1;32m    129\u001b[0m \u001b[0;32mdef\u001b[0m \u001b[0minstall_opener\u001b[0m\u001b[0;34m(\u001b[0m\u001b[0mopener\u001b[0m\u001b[0;34m)\u001b[0m\u001b[0;34m:\u001b[0m\u001b[0;34m\u001b[0m\u001b[0m\n",
        "\u001b[0;32m//anaconda/python.app/Contents/lib/python2.7/urllib2.pyc\u001b[0m in \u001b[0;36mopen\u001b[0;34m(self, fullurl, data, timeout)\u001b[0m\n\u001b[1;32m    408\u001b[0m         \u001b[0;32mfor\u001b[0m \u001b[0mprocessor\u001b[0m \u001b[0;32min\u001b[0m \u001b[0mself\u001b[0m\u001b[0;34m.\u001b[0m\u001b[0mprocess_response\u001b[0m\u001b[0;34m.\u001b[0m\u001b[0mget\u001b[0m\u001b[0;34m(\u001b[0m\u001b[0mprotocol\u001b[0m\u001b[0;34m,\u001b[0m \u001b[0;34m[\u001b[0m\u001b[0;34m]\u001b[0m\u001b[0;34m)\u001b[0m\u001b[0;34m:\u001b[0m\u001b[0;34m\u001b[0m\u001b[0m\n\u001b[1;32m    409\u001b[0m             \u001b[0mmeth\u001b[0m \u001b[0;34m=\u001b[0m \u001b[0mgetattr\u001b[0m\u001b[0;34m(\u001b[0m\u001b[0mprocessor\u001b[0m\u001b[0;34m,\u001b[0m \u001b[0mmeth_name\u001b[0m\u001b[0;34m)\u001b[0m\u001b[0;34m\u001b[0m\u001b[0m\n\u001b[0;32m--> 410\u001b[0;31m             \u001b[0mresponse\u001b[0m \u001b[0;34m=\u001b[0m \u001b[0mmeth\u001b[0m\u001b[0;34m(\u001b[0m\u001b[0mreq\u001b[0m\u001b[0;34m,\u001b[0m \u001b[0mresponse\u001b[0m\u001b[0;34m)\u001b[0m\u001b[0;34m\u001b[0m\u001b[0m\n\u001b[0m\u001b[1;32m    411\u001b[0m \u001b[0;34m\u001b[0m\u001b[0m\n\u001b[1;32m    412\u001b[0m         \u001b[0;32mreturn\u001b[0m \u001b[0mresponse\u001b[0m\u001b[0;34m\u001b[0m\u001b[0m\n",
        "\u001b[0;32m//anaconda/python.app/Contents/lib/python2.7/urllib2.pyc\u001b[0m in \u001b[0;36mhttp_response\u001b[0;34m(self, request, response)\u001b[0m\n\u001b[1;32m    521\u001b[0m         \u001b[0;32mif\u001b[0m \u001b[0;32mnot\u001b[0m \u001b[0;34m(\u001b[0m\u001b[0;36m200\u001b[0m \u001b[0;34m<=\u001b[0m \u001b[0mcode\u001b[0m \u001b[0;34m<\u001b[0m \u001b[0;36m300\u001b[0m\u001b[0;34m)\u001b[0m\u001b[0;34m:\u001b[0m\u001b[0;34m\u001b[0m\u001b[0m\n\u001b[1;32m    522\u001b[0m             response = self.parent.error(\n\u001b[0;32m--> 523\u001b[0;31m                 'http', request, response, code, msg, hdrs)\n\u001b[0m\u001b[1;32m    524\u001b[0m \u001b[0;34m\u001b[0m\u001b[0m\n\u001b[1;32m    525\u001b[0m         \u001b[0;32mreturn\u001b[0m \u001b[0mresponse\u001b[0m\u001b[0;34m\u001b[0m\u001b[0m\n",
        "\u001b[0;32m//anaconda/python.app/Contents/lib/python2.7/urllib2.pyc\u001b[0m in \u001b[0;36merror\u001b[0;34m(self, proto, *args)\u001b[0m\n\u001b[1;32m    446\u001b[0m         \u001b[0;32mif\u001b[0m \u001b[0mhttp_err\u001b[0m\u001b[0;34m:\u001b[0m\u001b[0;34m\u001b[0m\u001b[0m\n\u001b[1;32m    447\u001b[0m             \u001b[0margs\u001b[0m \u001b[0;34m=\u001b[0m \u001b[0;34m(\u001b[0m\u001b[0mdict\u001b[0m\u001b[0;34m,\u001b[0m \u001b[0;34m'default'\u001b[0m\u001b[0;34m,\u001b[0m \u001b[0;34m'http_error_default'\u001b[0m\u001b[0;34m)\u001b[0m \u001b[0;34m+\u001b[0m \u001b[0morig_args\u001b[0m\u001b[0;34m\u001b[0m\u001b[0m\n\u001b[0;32m--> 448\u001b[0;31m             \u001b[0;32mreturn\u001b[0m \u001b[0mself\u001b[0m\u001b[0;34m.\u001b[0m\u001b[0m_call_chain\u001b[0m\u001b[0;34m(\u001b[0m\u001b[0;34m*\u001b[0m\u001b[0margs\u001b[0m\u001b[0;34m)\u001b[0m\u001b[0;34m\u001b[0m\u001b[0m\n\u001b[0m\u001b[1;32m    449\u001b[0m \u001b[0;34m\u001b[0m\u001b[0m\n\u001b[1;32m    450\u001b[0m \u001b[0;31m# XXX probably also want an abstract factory that knows when it makes\u001b[0m\u001b[0;34m\u001b[0m\u001b[0;34m\u001b[0m\u001b[0m\n",
        "\u001b[0;32m//anaconda/python.app/Contents/lib/python2.7/urllib2.pyc\u001b[0m in \u001b[0;36m_call_chain\u001b[0;34m(self, chain, kind, meth_name, *args)\u001b[0m\n\u001b[1;32m    380\u001b[0m             \u001b[0mfunc\u001b[0m \u001b[0;34m=\u001b[0m \u001b[0mgetattr\u001b[0m\u001b[0;34m(\u001b[0m\u001b[0mhandler\u001b[0m\u001b[0;34m,\u001b[0m \u001b[0mmeth_name\u001b[0m\u001b[0;34m)\u001b[0m\u001b[0;34m\u001b[0m\u001b[0m\n\u001b[1;32m    381\u001b[0m \u001b[0;34m\u001b[0m\u001b[0m\n\u001b[0;32m--> 382\u001b[0;31m             \u001b[0mresult\u001b[0m \u001b[0;34m=\u001b[0m \u001b[0mfunc\u001b[0m\u001b[0;34m(\u001b[0m\u001b[0;34m*\u001b[0m\u001b[0margs\u001b[0m\u001b[0;34m)\u001b[0m\u001b[0;34m\u001b[0m\u001b[0m\n\u001b[0m\u001b[1;32m    383\u001b[0m             \u001b[0;32mif\u001b[0m \u001b[0mresult\u001b[0m \u001b[0;32mis\u001b[0m \u001b[0;32mnot\u001b[0m \u001b[0mNone\u001b[0m\u001b[0;34m:\u001b[0m\u001b[0;34m\u001b[0m\u001b[0m\n\u001b[1;32m    384\u001b[0m                 \u001b[0;32mreturn\u001b[0m \u001b[0mresult\u001b[0m\u001b[0;34m\u001b[0m\u001b[0m\n",
        "\u001b[0;32m//anaconda/python.app/Contents/lib/python2.7/urllib2.pyc\u001b[0m in \u001b[0;36mhttp_error_default\u001b[0;34m(self, req, fp, code, msg, hdrs)\u001b[0m\n\u001b[1;32m    529\u001b[0m \u001b[0;32mclass\u001b[0m \u001b[0mHTTPDefaultErrorHandler\u001b[0m\u001b[0;34m(\u001b[0m\u001b[0mBaseHandler\u001b[0m\u001b[0;34m)\u001b[0m\u001b[0;34m:\u001b[0m\u001b[0;34m\u001b[0m\u001b[0m\n\u001b[1;32m    530\u001b[0m     \u001b[0;32mdef\u001b[0m \u001b[0mhttp_error_default\u001b[0m\u001b[0;34m(\u001b[0m\u001b[0mself\u001b[0m\u001b[0;34m,\u001b[0m \u001b[0mreq\u001b[0m\u001b[0;34m,\u001b[0m \u001b[0mfp\u001b[0m\u001b[0;34m,\u001b[0m \u001b[0mcode\u001b[0m\u001b[0;34m,\u001b[0m \u001b[0mmsg\u001b[0m\u001b[0;34m,\u001b[0m \u001b[0mhdrs\u001b[0m\u001b[0;34m)\u001b[0m\u001b[0;34m:\u001b[0m\u001b[0;34m\u001b[0m\u001b[0m\n\u001b[0;32m--> 531\u001b[0;31m         \u001b[0;32mraise\u001b[0m \u001b[0mHTTPError\u001b[0m\u001b[0;34m(\u001b[0m\u001b[0mreq\u001b[0m\u001b[0;34m.\u001b[0m\u001b[0mget_full_url\u001b[0m\u001b[0;34m(\u001b[0m\u001b[0;34m)\u001b[0m\u001b[0;34m,\u001b[0m \u001b[0mcode\u001b[0m\u001b[0;34m,\u001b[0m \u001b[0mmsg\u001b[0m\u001b[0;34m,\u001b[0m \u001b[0mhdrs\u001b[0m\u001b[0;34m,\u001b[0m \u001b[0mfp\u001b[0m\u001b[0;34m)\u001b[0m\u001b[0;34m\u001b[0m\u001b[0m\n\u001b[0m\u001b[1;32m    532\u001b[0m \u001b[0;34m\u001b[0m\u001b[0m\n\u001b[1;32m    533\u001b[0m \u001b[0;32mclass\u001b[0m \u001b[0mHTTPRedirectHandler\u001b[0m\u001b[0;34m(\u001b[0m\u001b[0mBaseHandler\u001b[0m\u001b[0;34m)\u001b[0m\u001b[0;34m:\u001b[0m\u001b[0;34m\u001b[0m\u001b[0m\n",
        "\u001b[0;31mHTTPError\u001b[0m: HTTP Error 404: Not Found"
       ]
      },
      {
       "output_type": "stream",
       "stream": "stdout",
       "text": [
        "\n"
       ]
      }
     ],
     "prompt_number": 10
    },
    {
     "cell_type": "markdown",
     "metadata": {},
     "source": [
      "* The code in the U.S. Congressional record example above crashes when one of the URLs that we constructed cannot be found. This is a HTTP error with status code 404. Some of the HTTP status codes that one commonly encounters when accessing websites are listed here:\n",
      "    * 200 (OK) \n",
      "    * 301 (Moved Permanently) \n",
      "    * 400 (Bad Request)\n",
      "    * 403 (Forbidden)\n",
      "    * 404 (File Not Found)\n",
      "    * 503 (Service Unavailable). <br/>\n",
      "* A full list of HTTP error codes is available on wikipedia at http://en.wikipedia.org/wiki/List_of_HTTP_status_codes. "
     ]
    },
    {
     "cell_type": "heading",
     "level": 3,
     "metadata": {},
     "source": [
      "2.2 Handling Exceptions"
     ]
    },
    {
     "cell_type": "markdown",
     "metadata": {
      "slideshow": {
       "slide_type": "slide"
      }
     },
     "source": [
      "* When we are automating web content extraction, it's generally a good idea to do some error handling so that when such HTTP errors are encountered, our code does not exit abruptly. Python has built-in exception handling capabilities, namely the ``try`` and ``except`` blocks, to gracefully handle such errors rather than exiting. \n",
      "\n",
      "\n",
      "* The example below demonstrates the use of the ``try`` and ``except`` blocks to catch an exception when a list is indexed past its length. Instead of crashing, the code prints a message and exits the ``for`` loop and continues with processing. Furthermore, in the ``except`` block, some information about the exception is printed out."
     ]
    },
    {
     "cell_type": "code",
     "collapsed": false,
     "input": [
      "# This code generates and IndexError exception and crashes - Why?\n",
      "\n",
      "twitterUsers = [\"@pmharper\",\"@Kathleen_Wynne\",\"@JustinTrudeau\",\"@timhudak\",\"@DenisCoderre\"]\n",
      "\n",
      "# do some intermediate processing\n",
      "\n",
      "# print out list of Twitter users\n",
      "print(\"Twitter users in list: \")\n",
      "for i in range(0,6):\n",
      "     print(twitterUsers[i])\n",
      "        \n",
      "# more processing - for example, mine tweets of these users\n",
      "print(\"Continuing with more Twitter processing.\")"
     ],
     "language": "python",
     "metadata": {},
     "outputs": []
    },
    {
     "cell_type": "code",
     "collapsed": false,
     "input": [
      "# This script does not crash due to proper exception handling.\n",
      "\n",
      "twitterUsers = [\"@pmharper\",\"@Kathleen_Wynne\",\"@JustinTrudeau\",\"@timhudak\",\"@DenisCoderre\"]\n",
      "\n",
      "# do some intermediate processing\n",
      "\n",
      "# print out list of Twitter users\n",
      "print(\"Twitter users in list: \")\n",
      "for i in range(0,6):\n",
      "    try:\n",
      "        print(twitterUsers[i])\n",
      "    except Exception as e:\n",
      "        print(\"Encountered exception: {0}.\".format(e))\n",
      "        pass\n",
      "        \n",
      "# do some more processing - for example, mine tweets of these users\n",
      "print(\"Continuing with more Twitter processing.\")"
     ],
     "language": "python",
     "metadata": {
      "slideshow": {
       "slide_type": "fragment"
      }
     },
     "outputs": []
    },
    {
     "cell_type": "heading",
     "level": 4,
     "metadata": {},
     "source": [
      "Example: U.S. Congressional Record (cont.)"
     ]
    },
    {
     "cell_type": "markdown",
     "metadata": {
      "slideshow": {
       "slide_type": "slide"
      }
     },
     "source": [
      "* Now let's revisit the US congressional record example, this time incorporating Python exception handling to elegantly respond to HTTP errors."
     ]
    },
    {
     "cell_type": "code",
     "collapsed": false,
     "input": [
      "%load getCongressPDFs.py"
     ],
     "language": "python",
     "metadata": {},
     "outputs": [],
     "prompt_number": 11
    },
    {
     "cell_type": "code",
     "collapsed": false,
     "input": [
      "# Copyright 2014, Radhika S. Saksena (radhika dot saksena at gmail dot com)\n",
      "# Licensed under the Apache License, Version 2.0\n",
      "# http://www.apache.org/licenses/LICENSE-2.0\n",
      "\n",
      "# Web scraping and text processing with Python workshop\n",
      "\n",
      "import urllib2\n",
      "import sys\n",
      "import os\n",
      "import time\n",
      "\n",
      "'''Download \"Entire Issue\" of the Congressional Record for the period May 1 - 31 2014.'''\n",
      "\n",
      "month = 5 # set month to May\n",
      "\n",
      "# make an archive/ directory if it doesn't already exist\n",
      "if not os.path.exists(os.getcwd() + \"/archive\"):\n",
      "    os.mkdir(os.getcwd() + \"/archive\")\n",
      "\n",
      "# try downloading the Congressional Record for May 2014\n",
      "#for day in range(1,31):\n",
      "for day in range(1,6):\n",
      "\n",
      "    # construct the URL from which we will try to retrieve the record\n",
      "    fileName = \"CREC-2014-%02d-%02d.pdf\" % (month,day)\n",
      "    fileURL = \"http://beta.congress.gov/crec/2014/%02d/%02d/%s\"  % (month,day,fileName)\n",
      "    localFile = os.getcwd() + \"/archive/\" + fileName\n",
      "\n",
      "    try:\n",
      "        # use the urllib2 module to fetch the record\n",
      "        resp = urllib2.urlopen(fileURL)\n",
      "\n",
      "        # write the record (PDF file) to a local file\n",
      "        with open(localFile,\"wb\") as fout:\n",
      "            fout.write(resp.read())\n",
      "\n",
      "        print(\"Downloaded file %s.\" % fileURL)\n",
      "\n",
      "    except:\n",
      "        # if the record is unavailable, ignore and try the next day\n",
      "        print(\"Encountered exception while trying to download file {0}.\".format(fileName))\n",
      "        pass\n",
      "\n",
      "    # inject interval between consecutive requests\n",
      "    time.sleep(5)\n"
     ],
     "language": "python",
     "metadata": {},
     "outputs": [
      {
       "output_type": "stream",
       "stream": "stdout",
       "text": [
        "Downloaded file http://beta.congress.gov/crec/2014/05/01/CREC-2014-05-01.pdf.\n",
        "Downloaded file http://beta.congress.gov/crec/2014/05/02/CREC-2014-05-02.pdf."
       ]
      },
      {
       "output_type": "stream",
       "stream": "stdout",
       "text": [
        "\n",
        "Encountered exception while trying to download file CREC-2014-05-03.pdf."
       ]
      },
      {
       "output_type": "stream",
       "stream": "stdout",
       "text": [
        "\n",
        "Encountered exception while trying to download file CREC-2014-05-04.pdf."
       ]
      },
      {
       "output_type": "stream",
       "stream": "stdout",
       "text": [
        "\n",
        "Downloaded file http://beta.congress.gov/crec/2014/05/05/CREC-2014-05-05.pdf."
       ]
      },
      {
       "output_type": "stream",
       "stream": "stdout",
       "text": [
        "\n"
       ]
      }
     ],
     "prompt_number": 13
    },
    {
     "cell_type": "markdown",
     "metadata": {
      "slideshow": {
       "slide_type": "slide"
      }
     },
     "source": [
      "* You can also check the status codes of HTTP requests made by ``urllib2.urlopen()``. For example, the status code of the request shown below is 200 which indicates that ``urllib2.urlopen()`` was successful in accessing the URL passed to it."
     ]
    },
    {
     "cell_type": "code",
     "collapsed": false,
     "input": [
      "import urllib2\n",
      "\n",
      "resp = urllib2.urlopen(\"http://www.princeton.edu\")\n",
      "print(\"Response code is: {0}.\".format(resp.code))\n",
      "\n",
      "# take some action if resp.code == 200\n",
      "\n",
      "# example of a 404 (File Not Found error)\n",
      "# resp = urllib2.urlopen(\"http://www.princeton.edu/urlerror\")\n",
      "# print(\"Response code is: {0}.\".format(resp.code))"
     ],
     "language": "python",
     "metadata": {},
     "outputs": [
      {
       "output_type": "stream",
       "stream": "stdout",
       "text": [
        "Response code is: 200.\n"
       ]
      }
     ],
     "prompt_number": 1
    },
    {
     "cell_type": "code",
     "collapsed": false,
     "input": [],
     "language": "python",
     "metadata": {},
     "outputs": []
    }
   ],
   "metadata": {}
  }
 ]
}