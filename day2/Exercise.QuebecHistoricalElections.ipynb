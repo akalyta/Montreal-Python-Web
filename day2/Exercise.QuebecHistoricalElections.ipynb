{
 "metadata": {
  "name": ""
 },
 "nbformat": 3,
 "nbformat_minor": 0,
 "worksheets": [
  {
   "cells": [
    {
     "cell_type": "heading",
     "level": 1,
     "metadata": {
      "slideshow": {
       "slide_type": "slide"
      }
     },
     "source": [
      "Exercise: Scrape Quebec Historical Elections"
     ]
    },
    {
     "cell_type": "markdown",
     "metadata": {
      "slideshow": {
       "slide_type": "-"
      }
     },
     "source": [
      "**Workshop on Web Scraping and Text Processing with Python**"
     ]
    },
    {
     "cell_type": "markdown",
     "metadata": {},
     "source": [
      "**by Radhika Saksena, Princeton University, saksena@princeton.edu, radhika.saksena@gmail.com**\n",
      "\n"
     ]
    },
    {
     "cell_type": "markdown",
     "metadata": {},
     "source": [
      "*Disclaimer: The code examples presented in this and subsequent handouts are for educational purposes only. Please seek advice from a legal expert about the legal implications of using this code for web scraping.\n",
      "*"
     ]
    },
    {
     "cell_type": "heading",
     "level": 2,
     "metadata": {
      "slideshow": {
       "slide_type": "slide"
      }
     },
     "source": [
      "1. Background"
     ]
    },
    {
     "cell_type": "markdown",
     "metadata": {},
     "source": [
      "At http://www.assnat.qc.ca/en/patrimoine/resultatselec/index.html, you will find a list of links to HTML pages containing historical election results for all the electoral districts in Quebec. The electoral districts are listed alphabetically and each HTML page contains a subset of the electoral districts. Here is a snippet of the table for quick reference."
     ]
    },
    {
     "cell_type": "code",
     "collapsed": false,
     "input": [
      " TO PASTE\n"
     ],
     "language": "python",
     "metadata": {},
     "outputs": []
    },
    {
     "cell_type": "heading",
     "level": 2,
     "metadata": {
      "slideshow": {
       "slide_type": "slide"
      }
     },
     "source": [
      "2. Task: Extract links to electoral districts from HTML table"
     ]
    },
    {
     "cell_type": "markdown",
     "metadata": {},
     "source": [
      "** Extract the content in the table at http://www.assnat.qc.ca/en/patrimoine/resultatselec/index.html. Store the links in a list named ``links``**"
     ]
    },
    {
     "cell_type": "code",
     "collapsed": false,
     "input": [
      "# coding: utf-8                                                                    \n",
      "# Copyright 2014, Radhika S. Saksena (radhika dot saksena at gmail dot com)        \n",
      "# Licensed under the Apache License, Version 2.0                                   \n",
      "# http://www.apache.org/licenses/LICENSE-2.0                                       \n",
      "                                                                                   \n",
      "# Web scraping and text processing with Python workshop                            \n",
      "               \n",
      "from bs4 import BeautifulSoup                                                      \n",
      "import urllib2                                                                     \n",
      "import pandas as pd                                                                \n",
      "from QuebecHelper import scrapeQuebecRows    \n",
      "\n",
      "''' Scrape historical elections for Quebec. Create a dataframe with historical  \n",
      "    information for each of the districts.''' \n",
      "\n",
      "URL = \"http://www.assnat.qc.ca/en/patrimoine/resultatselec/index.html\" \n",
      "baseURL = \"http://www.assnat.qc.ca/en/patrimoine/resultatselec/\" \n",
      "\n",
      "# column names of pandas DataFrames                                                \n",
      "colNames = [\"year\",\"name\",\"party\",\"votes\",\"majority\"]                              \n",
      "districts = {}\n",
      "\n",
      "resp = urllib2.urlopen(URL).read()                                                 \n",
      "soup = BeautifulSoup(resp)\n",
      "\n",
      "# get reference to table containing the alphabetical list of districts             \n",
      "tableObj = soup.find(\"table\")\n",
      "\n",
      "# extract links to electoral results of all the districts  contained in the table\n",
      "links = [baseURL + atag[\"href\"] for atag in  tableObj.find_all(\"a\")]"
     ],
     "language": "python",
     "metadata": {},
     "outputs": []
    },
    {
     "cell_type": "heading",
     "level": 2,
     "metadata": {},
     "source": [
      "3. Task : Extract district names from electoral results table"
     ]
    },
    {
     "cell_type": "markdown",
     "metadata": {},
     "source": [
      "**Follow each of the links in the list ``links`` to an HTML page containing the electoral results table. This table has results for multiple districts. For now, just extract the names of this electoral districts.**"
     ]
    },
    {
     "cell_type": "code",
     "collapsed": false,
     "input": [
      "# follow each of these links in and extract district information                   \n",
      "for link in links:                                                                 \n",
      "    soup = BeautifulSoup(urllib2.urlopen(link).read())                             \n",
      "                                                                                   \n",
      "    tableObj = soup.find(\"table\")                                                  \n",
      "                                                                                   \n",
      "    # find all the row tag objects and store in variable called rows               \n",
      "    rows = tableObj.find_all(\"tr\")                                                 \n",
      "                                                                                   \n",
      "    # initialize some default                                                      \n",
      "    df = pd.DataFrame(columns=colNames)                                            \n",
      "    year = -1                                                                      \n",
      "    count = -1                                                                     \n",
      "    districtName = \"\"                                                              \n",
      "                                                                                   \n",
      "    # iterate over rows, extracting substantive information in the process         \n",
      "    for row in rows:                                                               \n",
      "        # if a new header row is encountered                                       \n",
      "        if(row.find(\"th\",attrs={\"class\":\"textAligneCentre\"})):                     \n",
      "                # save data for the previous district                              \n",
      "                districtName = row.find(\"th\").text.strip()                         \n",
      "                print(districtName)                                                \n",
      "        else:                                                                       \n",
      "            # TODO: define a function scrapeQuebecRows() which extracts\n",
      "            # info from a row, given it's columns\n",
      "            # cols = row.find_all(\"td\")\n",
      "            #year,name,party,votes,count = scrapeQuebecRows(cols,year)\n",
      "            pass            "
     ],
     "language": "python",
     "metadata": {},
     "outputs": [
      {
       "ename": "NameError",
       "evalue": "name 'links' is not defined",
       "output_type": "pyerr",
       "traceback": [
        "\u001b[0;31m---------------------------------------------------------------------------\u001b[0m\n\u001b[0;31mNameError\u001b[0m                                 Traceback (most recent call last)",
        "\u001b[0;32m<ipython-input-1-234793ad0931>\u001b[0m in \u001b[0;36m<module>\u001b[0;34m()\u001b[0m\n\u001b[1;32m      1\u001b[0m \u001b[0;31m# follow each of these links in and extract district information\u001b[0m\u001b[0;34m\u001b[0m\u001b[0;34m\u001b[0m\u001b[0m\n\u001b[0;32m----> 2\u001b[0;31m \u001b[0;32mfor\u001b[0m \u001b[0mlink\u001b[0m \u001b[0;32min\u001b[0m \u001b[0mlinks\u001b[0m\u001b[0;34m:\u001b[0m\u001b[0;34m\u001b[0m\u001b[0m\n\u001b[0m\u001b[1;32m      3\u001b[0m     \u001b[0msoup\u001b[0m \u001b[0;34m=\u001b[0m \u001b[0mBeautifulSoup\u001b[0m\u001b[0;34m(\u001b[0m\u001b[0murllib2\u001b[0m\u001b[0;34m.\u001b[0m\u001b[0murlopen\u001b[0m\u001b[0;34m(\u001b[0m\u001b[0mlink\u001b[0m\u001b[0;34m)\u001b[0m\u001b[0;34m.\u001b[0m\u001b[0mread\u001b[0m\u001b[0;34m(\u001b[0m\u001b[0;34m)\u001b[0m\u001b[0;34m)\u001b[0m\u001b[0;34m\u001b[0m\u001b[0m\n\u001b[1;32m      4\u001b[0m \u001b[0;34m\u001b[0m\u001b[0m\n\u001b[1;32m      5\u001b[0m     \u001b[0mtableObj\u001b[0m \u001b[0;34m=\u001b[0m \u001b[0msoup\u001b[0m\u001b[0;34m.\u001b[0m\u001b[0mfind\u001b[0m\u001b[0;34m(\u001b[0m\u001b[0;34m\"table\"\u001b[0m\u001b[0;34m)\u001b[0m\u001b[0;34m\u001b[0m\u001b[0m\n",
        "\u001b[0;31mNameError\u001b[0m: name 'links' is not defined"
       ]
      }
     ],
     "prompt_number": 1
    },
    {
     "cell_type": "code",
     "collapsed": false,
     "input": [],
     "language": "python",
     "metadata": {},
     "outputs": []
    }
   ],
   "metadata": {}
  }
 ]
}